{
 "cells": [
  {
   "cell_type": "code",
   "execution_count": 29,
   "metadata": {},
   "outputs": [],
   "source": [
    "import h5py\n",
    "import pandas\n",
    "import numpy as np\n",
    "from sklearn.model_selection import train_test_split, GridSearchCV, RandomizedSearchCV\n",
    "from sklearn.metrics import mean_absolute_error, log_loss, mean_absolute_percentage_error\n",
    "from scipy.stats import randint, poisson, uniform\n",
    "\n",
    "def load_data(name):\n",
    "    with h5py.File(f'{name}.h5', 'r') as f:\n",
    "        filename = name.split('/')[1]\n",
    "        return pandas.DataFrame(f[filename][:], dtype=np.float64)\n",
    "\n",
    "train = load_data('data/train')\n",
    "test  = load_data('data/test')"
   ]
  },
  {
   "cell_type": "code",
   "execution_count": 30,
   "metadata": {},
   "outputs": [
    {
     "name": "stdout",
     "output_type": "stream",
     "text": [
      "Shape of training data set: (162500, 166)\n",
      "Shape of test data set: (160651, 164)\n"
     ]
    }
   ],
   "source": [
    "print (f'Shape of training data set: {train.shape}')\n",
    "print (f'Shape of test data set: {test.shape}')"
   ]
  },
  {
   "cell_type": "code",
   "execution_count": 31,
   "metadata": {},
   "outputs": [],
   "source": [
    "all_variables = ['actualInteractionsPerCrossing', 'averageInteractionsPerCrossing', 'correctedActualMu', 'correctedAverageMu', 'correctedScaledActualMu', 'correctedScaledAverageMu', 'NvtxReco', 'p_nTracks', 'p_pt_track', 'p_eta', 'p_phi', 'p_charge', 'p_qOverP', 'p_z0', 'p_d0', 'p_sigmad0', 'p_d0Sig', 'p_EptRatio', 'p_dPOverP', 'p_z0theta', 'p_etaCluster', 'p_phiCluster', 'p_eCluster', 'p_rawEtaCluster', 'p_rawPhiCluster', 'p_rawECluster', 'p_eClusterLr0', 'p_eClusterLr1', 'p_eClusterLr2', 'p_eClusterLr3', 'p_etaClusterLr1', 'p_etaClusterLr2', 'p_phiClusterLr2', 'p_eAccCluster', 'p_f0Cluster', 'p_etaCalo', 'p_phiCalo', 'p_eTileGap3Cluster', 'p_cellIndexCluster', 'p_phiModCalo', 'p_etaModCalo', 'p_dPhiTH3', 'p_R12', 'p_fTG3', 'p_weta2', 'p_Reta', 'p_Rphi', 'p_Eratio', 'p_f1', 'p_f3', 'p_Rhad', 'p_Rhad1', 'p_deltaEta1', 'p_deltaPhiRescaled2', 'p_TRTPID', 'p_TRTTrackOccupancy', 'p_numberOfInnermostPixelHits', 'p_numberOfPixelHits', 'p_numberOfSCTHits', 'p_numberOfTRTHits', 'p_numberOfTRTXenonHits', 'p_chi2', 'p_ndof', 'p_SharedMuonTrack', 'p_E7x7_Lr2', 'p_E7x7_Lr3', 'p_E_Lr0_HiG', 'p_E_Lr0_LowG', 'p_E_Lr0_MedG', 'p_E_Lr1_HiG', 'p_E_Lr1_LowG', 'p_E_Lr1_MedG', 'p_E_Lr2_HiG', 'p_E_Lr2_LowG', 'p_E_Lr2_MedG', 'p_E_Lr3_HiG', 'p_E_Lr3_LowG', 'p_E_Lr3_MedG', 'p_ambiguityType', 'p_asy1', 'p_author', 'p_barys1', 'p_core57cellsEnergyCorrection', 'p_deltaEta0', 'p_deltaEta2', 'p_deltaEta3', 'p_deltaPhi0', 'p_deltaPhi1', 'p_deltaPhi2', 'p_deltaPhi3', 'p_deltaPhiFromLastMeasurement', 'p_deltaPhiRescaled0', 'p_deltaPhiRescaled1', 'p_deltaPhiRescaled3', 'p_e1152', 'p_e132', 'p_e235', 'p_e255', 'p_e2ts1', 'p_ecore', 'p_emins1', 'p_etconeCorrBitset', 'p_ethad', 'p_ethad1', 'p_f1core', 'p_f3core', 'p_maxEcell_energy', 'p_maxEcell_gain', 'p_maxEcell_time', 'p_maxEcell_x', 'p_maxEcell_y', 'p_maxEcell_z', 'p_nCells_Lr0_HiG', 'p_nCells_Lr0_LowG', 'p_nCells_Lr0_MedG', 'p_nCells_Lr1_HiG', 'p_nCells_Lr1_LowG', 'p_nCells_Lr1_MedG', 'p_nCells_Lr2_HiG', 'p_nCells_Lr2_LowG', 'p_nCells_Lr2_MedG', 'p_nCells_Lr3_HiG', 'p_nCells_Lr3_LowG', 'p_nCells_Lr3_MedG', 'p_pos', 'p_pos7', 'p_poscs1', 'p_poscs2', 'p_ptconeCorrBitset', 'p_ptconecoreTrackPtrCorrection', 'p_r33over37allcalo', 'p_topoetconeCorrBitset', 'p_topoetconecoreConeEnergyCorrection', 'p_topoetconecoreConeSCEnergyCorrection', 'p_weta1', 'p_widths1', 'p_widths2', 'p_wtots1', 'p_e233', 'p_e237', 'p_e277', 'p_e2tsts1', 'p_ehad1', 'p_emaxs1', 'p_fracs1', 'p_DeltaE', 'p_E3x5_Lr0', 'p_E3x5_Lr1', 'p_E3x5_Lr2', 'p_E3x5_Lr3', 'p_E5x7_Lr0', 'p_E5x7_Lr1', 'p_E5x7_Lr2', 'p_E5x7_Lr3', 'p_E7x11_Lr0', 'p_E7x11_Lr1', 'p_E7x11_Lr2', 'p_E7x11_Lr3', 'p_E7x7_Lr0', 'p_E7x7_Lr1' ]"
   ]
  },
  {
   "cell_type": "code",
   "execution_count": 32,
   "metadata": {},
   "outputs": [
    {
     "name": "stdout",
     "output_type": "stream",
     "text": [
      "Shape of X: (121495, 160)\n",
      "Shape of y: (121495,)\n"
     ]
    }
   ],
   "source": [
    "X = train[all_variables]\n",
    "y = train['Truth']\n",
    "\n",
    "e_index = y.loc[y==1].index\n",
    "\n",
    "X_e = X.iloc[e_index]\n",
    "y_e = train['p_truth_E'].iloc[e_index]\n",
    "\n",
    "\n",
    "print (f'Shape of X: {X_e.shape}')\n",
    "print (f'Shape of y: {y_e.shape}')"
   ]
  },
  {
   "cell_type": "code",
   "execution_count": 33,
   "metadata": {},
   "outputs": [],
   "source": [
    "from xgboost import XGBRegressor\n",
    "from sklearn.model_selection import train_test_split\n",
    "from sklearn.metrics import accuracy_score\n",
    "from sklearn.model_selection import KFold\n",
    "from sklearn.model_selection import cross_val_score\n"
   ]
  },
  {
   "cell_type": "code",
   "execution_count": 34,
   "metadata": {},
   "outputs": [],
   "source": [
    "param = {'max_depth': 2, 'eta': 1, 'objective': 'binary:logistic'}\n",
    "param['eval_metric'] = 'logloss'"
   ]
  },
  {
   "cell_type": "code",
   "execution_count": 35,
   "metadata": {},
   "outputs": [],
   "source": [
    "#evallist = [(dtest, 'eval'), (dtrain, 'train')]\n",
    "#num_round = 10\n",
    "#bst = xgb.train(param, dtrain, num_round, evallist)\n",
    "#print(np.shape(X))\n",
    "#print(np.shape(y))"
   ]
  },
  {
   "cell_type": "code",
   "execution_count": 36,
   "metadata": {},
   "outputs": [],
   "source": [
    "X_train, X_val, y_train, y_val = train_test_split(X_e, y_e, test_size=0.20, random_state=7)"
   ]
  },
  {
   "cell_type": "code",
   "execution_count": 37,
   "metadata": {},
   "outputs": [
    {
     "name": "stderr",
     "output_type": "stream",
     "text": [
      "pandas.Int64Index is deprecated and will be removed from pandas in a future version. Use pandas.Index with the appropriate dtype instead.\n"
     ]
    },
    {
     "name": "stdout",
     "output_type": "stream",
     "text": [
      "[0]\tvalidation_0-mape:0.70015\n",
      "[1]\tvalidation_0-mape:0.49680\n",
      "[2]\tvalidation_0-mape:0.35755\n",
      "[3]\tvalidation_0-mape:0.26210\n",
      "[4]\tvalidation_0-mape:0.19687\n",
      "[5]\tvalidation_0-mape:0.15251\n",
      "[6]\tvalidation_0-mape:0.12209\n",
      "[7]\tvalidation_0-mape:0.10194\n",
      "[8]\tvalidation_0-mape:0.08907\n",
      "[9]\tvalidation_0-mape:0.08094\n",
      "[10]\tvalidation_0-mape:0.07630\n",
      "[11]\tvalidation_0-mape:0.07337\n",
      "[12]\tvalidation_0-mape:0.07170\n",
      "[13]\tvalidation_0-mape:0.07079\n",
      "[14]\tvalidation_0-mape:0.07026\n",
      "[15]\tvalidation_0-mape:0.06999\n",
      "[16]\tvalidation_0-mape:0.06987\n",
      "[17]\tvalidation_0-mape:0.06963\n",
      "[18]\tvalidation_0-mape:0.06952\n",
      "[19]\tvalidation_0-mape:0.06940\n",
      "[20]\tvalidation_0-mape:0.06941\n",
      "[21]\tvalidation_0-mape:0.06941\n",
      "[22]\tvalidation_0-mape:0.06943\n",
      "[23]\tvalidation_0-mape:0.06951\n",
      "[24]\tvalidation_0-mape:0.06954\n",
      "[25]\tvalidation_0-mape:0.06958\n",
      "[26]\tvalidation_0-mape:0.06956\n",
      "[27]\tvalidation_0-mape:0.06959\n",
      "[28]\tvalidation_0-mape:0.06962\n",
      "[29]\tvalidation_0-mape:0.06964\n"
     ]
    },
    {
     "data": {
      "text/plain": [
       "XGBRegressor(base_score=0.5, booster='gbtree', colsample_bylevel=1,\n",
       "             colsample_bynode=1, colsample_bytree=1, enable_categorical=False,\n",
       "             eta=0.3, eval_metric='mape', gamma=0, gpu_id=-1,\n",
       "             importance_type=None, interaction_constraints='',\n",
       "             learning_rate=0.300000012, max_delta_step=0, max_depth=10,\n",
       "             min_child_weight=1, missing=nan, monotone_constraints='()',\n",
       "             n_estimators=1000, n_jobs=8, num_parallel_tree=1, predictor='auto',\n",
       "             random_state=0, reg_alpha=0, reg_lambda=1, scale_pos_weight=1,\n",
       "             subsample=1, tree_method='exact', validate_parameters=1,\n",
       "             verbosity=None)"
      ]
     },
     "execution_count": 37,
     "metadata": {},
     "output_type": "execute_result"
    }
   ],
   "source": [
    "model = XGBRegressor(max_depth = 10, eta = 0.3, eval_metric = \"mape\",n_estimators=1000)\n",
    "model.fit(X_train,y_train,eval_set=[(X_val,y_val)],early_stopping_rounds=10)\n"
   ]
  },
  {
   "cell_type": "code",
   "execution_count": 38,
   "metadata": {},
   "outputs": [
    {
     "name": "stdout",
     "output_type": "stream",
     "text": [
      "[145187.77 236826.81 147377.61 ... 147944.47 265332.1  130187.36]\n"
     ]
    }
   ],
   "source": [
    "y_pred = model.predict(X_val,iteration_range=(0,model.best_iteration))\n",
    "print(y_pred)\n"
   ]
  },
  {
   "cell_type": "code",
   "execution_count": 39,
   "metadata": {},
   "outputs": [],
   "source": [
    "#kfold = KFold(n_splits=10, shuffle=True)\n",
    "#kf_cv_scores = cross_val_score(model, X, y, cv=kfold )\n",
    "#print(\"K-fold CV average score: %.2f\" % kf_cv_scores.mean())"
   ]
  },
  {
   "cell_type": "code",
   "execution_count": 40,
   "metadata": {},
   "outputs": [],
   "source": [
    "import shap"
   ]
  },
  {
   "cell_type": "code",
   "execution_count": 41,
   "metadata": {},
   "outputs": [
    {
     "name": "stderr",
     "output_type": "stream",
     "text": [
      "ntree_limit is deprecated, use `iteration_range` or model slicing instead.\n"
     ]
    }
   ],
   "source": [
    "explainer = shap.TreeExplainer(model)\n",
    "shap_values = explainer.shap_values(X_train)"
   ]
  },
  {
   "cell_type": "code",
   "execution_count": 42,
   "metadata": {},
   "outputs": [],
   "source": [
    "#shap.plots.bar(shap_values, max_display=50)\n"
   ]
  },
  {
   "cell_type": "code",
   "execution_count": 43,
   "metadata": {},
   "outputs": [
    {
     "name": "stdout",
     "output_type": "stream",
     "text": [
      "['p_eCluster', 'p_eAccCluster', 'p_rawECluster', 'p_ecore', 'p_nCells_Lr1_HiG', 'p_deltaPhi2', 'p_deltaEta2', 'p_nTracks', 'p_E3x5_Lr1', 'p_wtots1', 'p_widths1', 'p_EptRatio']\n"
     ]
    }
   ],
   "source": [
    "feature_names = X_train.columns\n",
    "rf_resultX = pandas.DataFrame(shap_values, columns = feature_names)\n",
    "vals = np.abs(rf_resultX.values).mean(0)\n",
    "shap_importance = pandas.DataFrame(list(zip(feature_names, vals)),\n",
    "                                  columns=['col_name','feature_importance_vals'])\n",
    "shap_importance.sort_values(by=['feature_importance_vals'],\n",
    "                               ascending=False, inplace=True)\n",
    "imp_var = shap_importance['col_name'].iloc[:12].tolist()\n",
    "print(imp_var)\n"
   ]
  },
  {
   "cell_type": "code",
   "execution_count": 44,
   "metadata": {},
   "outputs": [
    {
     "name": "stdout",
     "output_type": "stream",
     "text": [
      "Shape of X: (121495, 12)\n",
      "Shape of y: (121495,)\n"
     ]
    }
   ],
   "source": [
    "X_20 = X_e[imp_var]\n",
    "y = train['Truth']\n",
    "\n",
    "print (f'Shape of X: {X_20.shape}')\n",
    "print (f'Shape of y: {y_e.shape}')"
   ]
  },
  {
   "cell_type": "code",
   "execution_count": 45,
   "metadata": {},
   "outputs": [],
   "source": [
    "X_train, X_val, y_train, y_val = train_test_split(X_20, y_e, test_size=0.10, random_state=7)"
   ]
  },
  {
   "cell_type": "code",
   "execution_count": 46,
   "metadata": {},
   "outputs": [
    {
     "name": "stderr",
     "output_type": "stream",
     "text": [
      "pandas.Int64Index is deprecated and will be removed from pandas in a future version. Use pandas.Index with the appropriate dtype instead.\n"
     ]
    },
    {
     "name": "stdout",
     "output_type": "stream",
     "text": [
      "[0]\tvalidation_0-mape:0.60433\n",
      "[1]\tvalidation_0-mape:0.37834\n",
      "[2]\tvalidation_0-mape:0.24712\n",
      "[3]\tvalidation_0-mape:0.17135\n",
      "[4]\tvalidation_0-mape:0.12807\n",
      "[5]\tvalidation_0-mape:0.10464\n",
      "[6]\tvalidation_0-mape:0.09295\n",
      "[7]\tvalidation_0-mape:0.08814\n",
      "[8]\tvalidation_0-mape:0.08592\n",
      "[9]\tvalidation_0-mape:0.08514\n",
      "[10]\tvalidation_0-mape:0.08500\n",
      "[11]\tvalidation_0-mape:0.08503\n",
      "[12]\tvalidation_0-mape:0.08501\n",
      "[13]\tvalidation_0-mape:0.08504\n",
      "[14]\tvalidation_0-mape:0.08506\n",
      "[15]\tvalidation_0-mape:0.08489\n",
      "[16]\tvalidation_0-mape:0.08491\n",
      "[17]\tvalidation_0-mape:0.08495\n",
      "[18]\tvalidation_0-mape:0.08506\n",
      "[19]\tvalidation_0-mape:0.08517\n",
      "[20]\tvalidation_0-mape:0.08520\n",
      "[21]\tvalidation_0-mape:0.08519\n",
      "[22]\tvalidation_0-mape:0.08527\n",
      "[23]\tvalidation_0-mape:0.08533\n",
      "[24]\tvalidation_0-mape:0.08542\n",
      "[25]\tvalidation_0-mape:0.08559\n"
     ]
    },
    {
     "data": {
      "text/plain": [
       "XGBRegressor(base_score=0.5, booster='gbtree', colsample_bylevel=1,\n",
       "             colsample_bynode=1, colsample_bytree=1, enable_categorical=False,\n",
       "             eta=0.4, eval_metric='mape', gamma=0, gpu_id=-1,\n",
       "             importance_type=None, interaction_constraints='',\n",
       "             learning_rate=0.400000006, max_delta_step=0, max_depth=15,\n",
       "             min_child_weight=1, missing=nan, monotone_constraints='()',\n",
       "             n_estimators=1000, n_jobs=8, num_parallel_tree=1, predictor='auto',\n",
       "             random_state=0, reg_alpha=0, reg_lambda=1, scale_pos_weight=1,\n",
       "             subsample=1, tree_method='exact', validate_parameters=1,\n",
       "             verbosity=None)"
      ]
     },
     "execution_count": 46,
     "metadata": {},
     "output_type": "execute_result"
    }
   ],
   "source": [
    "model2 = XGBRegressor(max_depth = 15, eta = 0.4, eval_metric = 'mape',n_estimators=1000)\n",
    "model2.fit(X_train,y_train,eval_set=[(X_val,y_val)],early_stopping_rounds=10)"
   ]
  },
  {
   "cell_type": "code",
   "execution_count": 47,
   "metadata": {},
   "outputs": [],
   "source": [
    "dist_param = {'n_estimators':[1000],\n",
    "              'learning_rate':uniform(0.01,0.5),\n",
    "              'max_depth':randint(5,15),\n",
    "              'eval_metric':[mean_absolute_percentage_error]}\n",
    "\n",
    "fit_param = {'early_stopping_rounds':5,\n",
    "             'eval_set':[(X_val,y_val)],\n",
    "             'verbose':0}\n",
    "\n"
   ]
  },
  {
   "cell_type": "code",
   "execution_count": 48,
   "metadata": {},
   "outputs": [],
   "source": [
    "# run randomized search\n",
    "n_iter_search = 20\n",
    "RandomSearch = RandomizedSearchCV(model2, \n",
    "                                  param_distributions=dist_param, \n",
    "                                  n_iter=n_iter_search, \n",
    "                                  cv=5, \n",
    "                                  return_train_score=True,\n",
    "                                  random_state=7,\n",
    "                                  scoring='neg_mean_absolute_error',\n",
    "                                  n_jobs=1,\n",
    "                                  verbose=10\n",
    "                                 )"
   ]
  },
  {
   "cell_type": "code",
   "execution_count": 49,
   "metadata": {},
   "outputs": [
    {
     "name": "stdout",
     "output_type": "stream",
     "text": [
      "Fitting 5 folds for each of 20 candidates, totalling 100 fits\n",
      "[CV 1/5; 1/20] START eval_metric=<function mean_absolute_percentage_error at 0x0000022CD22251F0>, learning_rate=0.04815414468697859, max_depth=14, n_estimators=1000\n"
     ]
    },
    {
     "name": "stderr",
     "output_type": "stream",
     "text": [
      "pandas.Int64Index is deprecated and will be removed from pandas in a future version. Use pandas.Index with the appropriate dtype instead.\n",
      "pandas.Int64Index is deprecated and will be removed from pandas in a future version. Use pandas.Index with the appropriate dtype instead.\n",
      "pandas.Int64Index is deprecated and will be removed from pandas in a future version. Use pandas.Index with the appropriate dtype instead.\n"
     ]
    },
    {
     "name": "stdout",
     "output_type": "stream",
     "text": [
      "[CV 1/5; 1/20] END eval_metric=<function mean_absolute_percentage_error at 0x0000022CD22251F0>, learning_rate=0.04815414468697859, max_depth=14, n_estimators=1000;, score=(train=-3730.599, test=-6531.210) total time=  38.6s\n",
      "[CV 2/5; 1/20] START eval_metric=<function mean_absolute_percentage_error at 0x0000022CD22251F0>, learning_rate=0.04815414468697859, max_depth=14, n_estimators=1000\n"
     ]
    },
    {
     "name": "stderr",
     "output_type": "stream",
     "text": [
      "pandas.Int64Index is deprecated and will be removed from pandas in a future version. Use pandas.Index with the appropriate dtype instead.\n"
     ]
    },
    {
     "name": "stdout",
     "output_type": "stream",
     "text": [
      "[CV 2/5; 1/20] END eval_metric=<function mean_absolute_percentage_error at 0x0000022CD22251F0>, learning_rate=0.04815414468697859, max_depth=14, n_estimators=1000;, score=(train=-3692.758, test=-6606.459) total time=  40.8s\n",
      "[CV 3/5; 1/20] START eval_metric=<function mean_absolute_percentage_error at 0x0000022CD22251F0>, learning_rate=0.04815414468697859, max_depth=14, n_estimators=1000\n"
     ]
    },
    {
     "name": "stderr",
     "output_type": "stream",
     "text": [
      "pandas.Int64Index is deprecated and will be removed from pandas in a future version. Use pandas.Index with the appropriate dtype instead.\n",
      "pandas.Int64Index is deprecated and will be removed from pandas in a future version. Use pandas.Index with the appropriate dtype instead.\n"
     ]
    },
    {
     "name": "stdout",
     "output_type": "stream",
     "text": [
      "[CV 3/5; 1/20] END eval_metric=<function mean_absolute_percentage_error at 0x0000022CD22251F0>, learning_rate=0.04815414468697859, max_depth=14, n_estimators=1000;, score=(train=-3669.633, test=-6621.867) total time=  41.6s\n",
      "[CV 4/5; 1/20] START eval_metric=<function mean_absolute_percentage_error at 0x0000022CD22251F0>, learning_rate=0.04815414468697859, max_depth=14, n_estimators=1000\n"
     ]
    },
    {
     "name": "stderr",
     "output_type": "stream",
     "text": [
      "pandas.Int64Index is deprecated and will be removed from pandas in a future version. Use pandas.Index with the appropriate dtype instead.\n",
      "pandas.Int64Index is deprecated and will be removed from pandas in a future version. Use pandas.Index with the appropriate dtype instead.\n",
      "pandas.Int64Index is deprecated and will be removed from pandas in a future version. Use pandas.Index with the appropriate dtype instead.\n"
     ]
    },
    {
     "name": "stdout",
     "output_type": "stream",
     "text": [
      "[CV 4/5; 1/20] END eval_metric=<function mean_absolute_percentage_error at 0x0000022CD22251F0>, learning_rate=0.04815414468697859, max_depth=14, n_estimators=1000;, score=(train=-3831.415, test=-6731.493) total time=  35.0s\n",
      "[CV 5/5; 1/20] START eval_metric=<function mean_absolute_percentage_error at 0x0000022CD22251F0>, learning_rate=0.04815414468697859, max_depth=14, n_estimators=1000\n"
     ]
    },
    {
     "name": "stderr",
     "output_type": "stream",
     "text": [
      "pandas.Int64Index is deprecated and will be removed from pandas in a future version. Use pandas.Index with the appropriate dtype instead.\n",
      "pandas.Int64Index is deprecated and will be removed from pandas in a future version. Use pandas.Index with the appropriate dtype instead.\n"
     ]
    },
    {
     "name": "stdout",
     "output_type": "stream",
     "text": [
      "[CV 5/5; 1/20] END eval_metric=<function mean_absolute_percentage_error at 0x0000022CD22251F0>, learning_rate=0.04815414468697859, max_depth=14, n_estimators=1000;, score=(train=-3674.299, test=-6458.520) total time=  40.3s\n",
      "[CV 1/5; 2/20] START eval_metric=<function mean_absolute_percentage_error at 0x0000022CD22251F0>, learning_rate=0.16948611288670162, max_depth=8, n_estimators=1000\n"
     ]
    },
    {
     "name": "stderr",
     "output_type": "stream",
     "text": [
      "pandas.Int64Index is deprecated and will be removed from pandas in a future version. Use pandas.Index with the appropriate dtype instead.\n",
      "pandas.Int64Index is deprecated and will be removed from pandas in a future version. Use pandas.Index with the appropriate dtype instead.\n"
     ]
    },
    {
     "name": "stdout",
     "output_type": "stream",
     "text": [
      "[CV 1/5; 2/20] END eval_metric=<function mean_absolute_percentage_error at 0x0000022CD22251F0>, learning_rate=0.16948611288670162, max_depth=8, n_estimators=1000;, score=(train=-5665.594, test=-6397.516) total time=   5.9s\n",
      "[CV 2/5; 2/20] START eval_metric=<function mean_absolute_percentage_error at 0x0000022CD22251F0>, learning_rate=0.16948611288670162, max_depth=8, n_estimators=1000\n"
     ]
    },
    {
     "name": "stderr",
     "output_type": "stream",
     "text": [
      "pandas.Int64Index is deprecated and will be removed from pandas in a future version. Use pandas.Index with the appropriate dtype instead.\n",
      "pandas.Int64Index is deprecated and will be removed from pandas in a future version. Use pandas.Index with the appropriate dtype instead.\n"
     ]
    },
    {
     "name": "stdout",
     "output_type": "stream",
     "text": [
      "[CV 2/5; 2/20] END eval_metric=<function mean_absolute_percentage_error at 0x0000022CD22251F0>, learning_rate=0.16948611288670162, max_depth=8, n_estimators=1000;, score=(train=-5641.548, test=-6537.890) total time=   5.8s\n",
      "[CV 3/5; 2/20] START eval_metric=<function mean_absolute_percentage_error at 0x0000022CD22251F0>, learning_rate=0.16948611288670162, max_depth=8, n_estimators=1000\n"
     ]
    },
    {
     "name": "stderr",
     "output_type": "stream",
     "text": [
      "pandas.Int64Index is deprecated and will be removed from pandas in a future version. Use pandas.Index with the appropriate dtype instead.\n",
      "pandas.Int64Index is deprecated and will be removed from pandas in a future version. Use pandas.Index with the appropriate dtype instead.\n"
     ]
    },
    {
     "name": "stdout",
     "output_type": "stream",
     "text": [
      "[CV 3/5; 2/20] END eval_metric=<function mean_absolute_percentage_error at 0x0000022CD22251F0>, learning_rate=0.16948611288670162, max_depth=8, n_estimators=1000;, score=(train=-5570.182, test=-6505.253) total time=   6.9s\n",
      "[CV 4/5; 2/20] START eval_metric=<function mean_absolute_percentage_error at 0x0000022CD22251F0>, learning_rate=0.16948611288670162, max_depth=8, n_estimators=1000\n"
     ]
    },
    {
     "name": "stderr",
     "output_type": "stream",
     "text": [
      "pandas.Int64Index is deprecated and will be removed from pandas in a future version. Use pandas.Index with the appropriate dtype instead.\n",
      "pandas.Int64Index is deprecated and will be removed from pandas in a future version. Use pandas.Index with the appropriate dtype instead.\n"
     ]
    },
    {
     "name": "stdout",
     "output_type": "stream",
     "text": [
      "[CV 4/5; 2/20] END eval_metric=<function mean_absolute_percentage_error at 0x0000022CD22251F0>, learning_rate=0.16948611288670162, max_depth=8, n_estimators=1000;, score=(train=-5687.616, test=-6621.051) total time=   5.5s\n",
      "[CV 5/5; 2/20] START eval_metric=<function mean_absolute_percentage_error at 0x0000022CD22251F0>, learning_rate=0.16948611288670162, max_depth=8, n_estimators=1000\n"
     ]
    },
    {
     "name": "stderr",
     "output_type": "stream",
     "text": [
      "pandas.Int64Index is deprecated and will be removed from pandas in a future version. Use pandas.Index with the appropriate dtype instead.\n",
      "pandas.Int64Index is deprecated and will be removed from pandas in a future version. Use pandas.Index with the appropriate dtype instead.\n"
     ]
    },
    {
     "name": "stdout",
     "output_type": "stream",
     "text": [
      "[CV 5/5; 2/20] END eval_metric=<function mean_absolute_percentage_error at 0x0000022CD22251F0>, learning_rate=0.16948611288670162, max_depth=8, n_estimators=1000;, score=(train=-5785.746, test=-6431.637) total time=   5.4s\n",
      "[CV 1/5; 3/20] START eval_metric=<function mean_absolute_percentage_error at 0x0000022CD22251F0>, learning_rate=0.3717325889154706, max_depth=14, n_estimators=1000\n"
     ]
    },
    {
     "name": "stderr",
     "output_type": "stream",
     "text": [
      "pandas.Int64Index is deprecated and will be removed from pandas in a future version. Use pandas.Index with the appropriate dtype instead.\n",
      "pandas.Int64Index is deprecated and will be removed from pandas in a future version. Use pandas.Index with the appropriate dtype instead.\n"
     ]
    },
    {
     "name": "stdout",
     "output_type": "stream",
     "text": [
      "[CV 1/5; 3/20] END eval_metric=<function mean_absolute_percentage_error at 0x0000022CD22251F0>, learning_rate=0.3717325889154706, max_depth=14, n_estimators=1000;, score=(train=-4243.619, test=-6889.465) total time=   5.3s\n",
      "[CV 2/5; 3/20] START eval_metric=<function mean_absolute_percentage_error at 0x0000022CD22251F0>, learning_rate=0.3717325889154706, max_depth=14, n_estimators=1000\n"
     ]
    },
    {
     "name": "stderr",
     "output_type": "stream",
     "text": [
      "pandas.Int64Index is deprecated and will be removed from pandas in a future version. Use pandas.Index with the appropriate dtype instead.\n",
      "pandas.Int64Index is deprecated and will be removed from pandas in a future version. Use pandas.Index with the appropriate dtype instead.\n"
     ]
    },
    {
     "name": "stdout",
     "output_type": "stream",
     "text": [
      "[CV 2/5; 3/20] END eval_metric=<function mean_absolute_percentage_error at 0x0000022CD22251F0>, learning_rate=0.3717325889154706, max_depth=14, n_estimators=1000;, score=(train=-4638.786, test=-7088.386) total time=   4.4s\n",
      "[CV 3/5; 3/20] START eval_metric=<function mean_absolute_percentage_error at 0x0000022CD22251F0>, learning_rate=0.3717325889154706, max_depth=14, n_estimators=1000\n"
     ]
    },
    {
     "name": "stderr",
     "output_type": "stream",
     "text": [
      "pandas.Int64Index is deprecated and will be removed from pandas in a future version. Use pandas.Index with the appropriate dtype instead.\n",
      "pandas.Int64Index is deprecated and will be removed from pandas in a future version. Use pandas.Index with the appropriate dtype instead.\n"
     ]
    },
    {
     "name": "stdout",
     "output_type": "stream",
     "text": [
      "[CV 3/5; 3/20] END eval_metric=<function mean_absolute_percentage_error at 0x0000022CD22251F0>, learning_rate=0.3717325889154706, max_depth=14, n_estimators=1000;, score=(train=-4938.449, test=-7201.610) total time=   4.2s\n",
      "[CV 4/5; 3/20] START eval_metric=<function mean_absolute_percentage_error at 0x0000022CD22251F0>, learning_rate=0.3717325889154706, max_depth=14, n_estimators=1000\n"
     ]
    },
    {
     "name": "stderr",
     "output_type": "stream",
     "text": [
      "pandas.Int64Index is deprecated and will be removed from pandas in a future version. Use pandas.Index with the appropriate dtype instead.\n",
      "pandas.Int64Index is deprecated and will be removed from pandas in a future version. Use pandas.Index with the appropriate dtype instead.\n"
     ]
    },
    {
     "name": "stdout",
     "output_type": "stream",
     "text": [
      "[CV 4/5; 3/20] END eval_metric=<function mean_absolute_percentage_error at 0x0000022CD22251F0>, learning_rate=0.3717325889154706, max_depth=14, n_estimators=1000;, score=(train=-4273.023, test=-7105.117) total time=   4.8s\n",
      "[CV 5/5; 3/20] START eval_metric=<function mean_absolute_percentage_error at 0x0000022CD22251F0>, learning_rate=0.3717325889154706, max_depth=14, n_estimators=1000\n"
     ]
    },
    {
     "name": "stderr",
     "output_type": "stream",
     "text": [
      "pandas.Int64Index is deprecated and will be removed from pandas in a future version. Use pandas.Index with the appropriate dtype instead.\n",
      "pandas.Int64Index is deprecated and will be removed from pandas in a future version. Use pandas.Index with the appropriate dtype instead.\n"
     ]
    },
    {
     "name": "stdout",
     "output_type": "stream",
     "text": [
      "[CV 5/5; 3/20] END eval_metric=<function mean_absolute_percentage_error at 0x0000022CD22251F0>, learning_rate=0.3717325889154706, max_depth=14, n_estimators=1000;, score=(train=-4458.678, test=-6896.962) total time=   4.6s\n",
      "[CV 1/5; 4/20] START eval_metric=<function mean_absolute_percentage_error at 0x0000022CD22251F0>, learning_rate=0.27924793520521685, max_depth=13, n_estimators=1000\n"
     ]
    },
    {
     "name": "stderr",
     "output_type": "stream",
     "text": [
      "pandas.Int64Index is deprecated and will be removed from pandas in a future version. Use pandas.Index with the appropriate dtype instead.\n",
      "pandas.Int64Index is deprecated and will be removed from pandas in a future version. Use pandas.Index with the appropriate dtype instead.\n"
     ]
    },
    {
     "name": "stdout",
     "output_type": "stream",
     "text": [
      "[CV 1/5; 4/20] END eval_metric=<function mean_absolute_percentage_error at 0x0000022CD22251F0>, learning_rate=0.27924793520521685, max_depth=13, n_estimators=1000;, score=(train=-4602.254, test=-6764.215) total time=   5.4s\n",
      "[CV 2/5; 4/20] START eval_metric=<function mean_absolute_percentage_error at 0x0000022CD22251F0>, learning_rate=0.27924793520521685, max_depth=13, n_estimators=1000\n"
     ]
    },
    {
     "name": "stderr",
     "output_type": "stream",
     "text": [
      "pandas.Int64Index is deprecated and will be removed from pandas in a future version. Use pandas.Index with the appropriate dtype instead.\n",
      "pandas.Int64Index is deprecated and will be removed from pandas in a future version. Use pandas.Index with the appropriate dtype instead.\n"
     ]
    },
    {
     "name": "stdout",
     "output_type": "stream",
     "text": [
      "[CV 2/5; 4/20] END eval_metric=<function mean_absolute_percentage_error at 0x0000022CD22251F0>, learning_rate=0.27924793520521685, max_depth=13, n_estimators=1000;, score=(train=-4619.502, test=-6886.117) total time=   5.4s\n",
      "[CV 3/5; 4/20] START eval_metric=<function mean_absolute_percentage_error at 0x0000022CD22251F0>, learning_rate=0.27924793520521685, max_depth=13, n_estimators=1000\n"
     ]
    },
    {
     "name": "stderr",
     "output_type": "stream",
     "text": [
      "pandas.Int64Index is deprecated and will be removed from pandas in a future version. Use pandas.Index with the appropriate dtype instead.\n",
      "pandas.Int64Index is deprecated and will be removed from pandas in a future version. Use pandas.Index with the appropriate dtype instead.\n"
     ]
    },
    {
     "name": "stdout",
     "output_type": "stream",
     "text": [
      "[CV 3/5; 4/20] END eval_metric=<function mean_absolute_percentage_error at 0x0000022CD22251F0>, learning_rate=0.27924793520521685, max_depth=13, n_estimators=1000;, score=(train=-4657.392, test=-7006.805) total time=   5.2s\n",
      "[CV 4/5; 4/20] START eval_metric=<function mean_absolute_percentage_error at 0x0000022CD22251F0>, learning_rate=0.27924793520521685, max_depth=13, n_estimators=1000\n"
     ]
    },
    {
     "name": "stderr",
     "output_type": "stream",
     "text": [
      "pandas.Int64Index is deprecated and will be removed from pandas in a future version. Use pandas.Index with the appropriate dtype instead.\n",
      "pandas.Int64Index is deprecated and will be removed from pandas in a future version. Use pandas.Index with the appropriate dtype instead.\n"
     ]
    },
    {
     "name": "stdout",
     "output_type": "stream",
     "text": [
      "[CV 4/5; 4/20] END eval_metric=<function mean_absolute_percentage_error at 0x0000022CD22251F0>, learning_rate=0.27924793520521685, max_depth=13, n_estimators=1000;, score=(train=-4533.996, test=-6958.032) total time=   5.4s\n",
      "[CV 5/5; 4/20] START eval_metric=<function mean_absolute_percentage_error at 0x0000022CD22251F0>, learning_rate=0.27924793520521685, max_depth=13, n_estimators=1000\n"
     ]
    },
    {
     "name": "stderr",
     "output_type": "stream",
     "text": [
      "pandas.Int64Index is deprecated and will be removed from pandas in a future version. Use pandas.Index with the appropriate dtype instead.\n",
      "pandas.Int64Index is deprecated and will be removed from pandas in a future version. Use pandas.Index with the appropriate dtype instead.\n"
     ]
    },
    {
     "name": "stdout",
     "output_type": "stream",
     "text": [
      "[CV 5/5; 4/20] END eval_metric=<function mean_absolute_percentage_error at 0x0000022CD22251F0>, learning_rate=0.27924793520521685, max_depth=13, n_estimators=1000;, score=(train=-4579.844, test=-6756.168) total time=   5.4s\n",
      "[CV 1/5; 5/20] START eval_metric=<function mean_absolute_percentage_error at 0x0000022CD22251F0>, learning_rate=0.053371714919995976, max_depth=13, n_estimators=1000\n"
     ]
    },
    {
     "name": "stderr",
     "output_type": "stream",
     "text": [
      "pandas.Int64Index is deprecated and will be removed from pandas in a future version. Use pandas.Index with the appropriate dtype instead.\n",
      "pandas.Int64Index is deprecated and will be removed from pandas in a future version. Use pandas.Index with the appropriate dtype instead.\n"
     ]
    },
    {
     "name": "stdout",
     "output_type": "stream",
     "text": [
      "[CV 1/5; 5/20] END eval_metric=<function mean_absolute_percentage_error at 0x0000022CD22251F0>, learning_rate=0.053371714919995976, max_depth=13, n_estimators=1000;, score=(train=-4065.680, test=-6487.968) total time=  32.3s\n",
      "[CV 2/5; 5/20] START eval_metric=<function mean_absolute_percentage_error at 0x0000022CD22251F0>, learning_rate=0.053371714919995976, max_depth=13, n_estimators=1000\n"
     ]
    },
    {
     "name": "stderr",
     "output_type": "stream",
     "text": [
      "pandas.Int64Index is deprecated and will be removed from pandas in a future version. Use pandas.Index with the appropriate dtype instead.\n"
     ]
    },
    {
     "name": "stdout",
     "output_type": "stream",
     "text": [
      "[CV 2/5; 5/20] END eval_metric=<function mean_absolute_percentage_error at 0x0000022CD22251F0>, learning_rate=0.053371714919995976, max_depth=13, n_estimators=1000;, score=(train=-4146.763, test=-6627.529) total time=  31.6s\n",
      "[CV 3/5; 5/20] START eval_metric=<function mean_absolute_percentage_error at 0x0000022CD22251F0>, learning_rate=0.053371714919995976, max_depth=13, n_estimators=1000\n"
     ]
    },
    {
     "name": "stderr",
     "output_type": "stream",
     "text": [
      "pandas.Int64Index is deprecated and will be removed from pandas in a future version. Use pandas.Index with the appropriate dtype instead.\n",
      "pandas.Int64Index is deprecated and will be removed from pandas in a future version. Use pandas.Index with the appropriate dtype instead.\n",
      "pandas.Int64Index is deprecated and will be removed from pandas in a future version. Use pandas.Index with the appropriate dtype instead.\n"
     ]
    },
    {
     "name": "stdout",
     "output_type": "stream",
     "text": [
      "[CV 3/5; 5/20] END eval_metric=<function mean_absolute_percentage_error at 0x0000022CD22251F0>, learning_rate=0.053371714919995976, max_depth=13, n_estimators=1000;, score=(train=-4253.143, test=-6644.020) total time=  28.7s\n",
      "[CV 4/5; 5/20] START eval_metric=<function mean_absolute_percentage_error at 0x0000022CD22251F0>, learning_rate=0.053371714919995976, max_depth=13, n_estimators=1000\n"
     ]
    },
    {
     "name": "stderr",
     "output_type": "stream",
     "text": [
      "pandas.Int64Index is deprecated and will be removed from pandas in a future version. Use pandas.Index with the appropriate dtype instead.\n",
      "pandas.Int64Index is deprecated and will be removed from pandas in a future version. Use pandas.Index with the appropriate dtype instead.\n"
     ]
    },
    {
     "name": "stdout",
     "output_type": "stream",
     "text": [
      "[CV 4/5; 5/20] END eval_metric=<function mean_absolute_percentage_error at 0x0000022CD22251F0>, learning_rate=0.053371714919995976, max_depth=13, n_estimators=1000;, score=(train=-4203.817, test=-6708.545) total time=  27.9s\n",
      "[CV 5/5; 5/20] START eval_metric=<function mean_absolute_percentage_error at 0x0000022CD22251F0>, learning_rate=0.053371714919995976, max_depth=13, n_estimators=1000\n"
     ]
    },
    {
     "name": "stderr",
     "output_type": "stream",
     "text": [
      "pandas.Int64Index is deprecated and will be removed from pandas in a future version. Use pandas.Index with the appropriate dtype instead.\n",
      "pandas.Int64Index is deprecated and will be removed from pandas in a future version. Use pandas.Index with the appropriate dtype instead.\n"
     ]
    },
    {
     "name": "stdout",
     "output_type": "stream",
     "text": [
      "[CV 5/5; 5/20] END eval_metric=<function mean_absolute_percentage_error at 0x0000022CD22251F0>, learning_rate=0.053371714919995976, max_depth=13, n_estimators=1000;, score=(train=-4349.488, test=-6522.490) total time=  27.4s\n",
      "[CV 1/5; 6/20] START eval_metric=<function mean_absolute_percentage_error at 0x0000022CD22251F0>, learning_rate=0.25994125041278, max_depth=9, n_estimators=1000\n"
     ]
    },
    {
     "name": "stderr",
     "output_type": "stream",
     "text": [
      "pandas.Int64Index is deprecated and will be removed from pandas in a future version. Use pandas.Index with the appropriate dtype instead.\n",
      "pandas.Int64Index is deprecated and will be removed from pandas in a future version. Use pandas.Index with the appropriate dtype instead.\n"
     ]
    },
    {
     "name": "stdout",
     "output_type": "stream",
     "text": [
      "[CV 1/5; 6/20] END eval_metric=<function mean_absolute_percentage_error at 0x0000022CD22251F0>, learning_rate=0.25994125041278, max_depth=9, n_estimators=1000;, score=(train=-5455.916, test=-6532.961) total time=   4.5s\n",
      "[CV 2/5; 6/20] START eval_metric=<function mean_absolute_percentage_error at 0x0000022CD22251F0>, learning_rate=0.25994125041278, max_depth=9, n_estimators=1000\n"
     ]
    },
    {
     "name": "stderr",
     "output_type": "stream",
     "text": [
      "pandas.Int64Index is deprecated and will be removed from pandas in a future version. Use pandas.Index with the appropriate dtype instead.\n",
      "pandas.Int64Index is deprecated and will be removed from pandas in a future version. Use pandas.Index with the appropriate dtype instead.\n"
     ]
    },
    {
     "name": "stdout",
     "output_type": "stream",
     "text": [
      "[CV 2/5; 6/20] END eval_metric=<function mean_absolute_percentage_error at 0x0000022CD22251F0>, learning_rate=0.25994125041278, max_depth=9, n_estimators=1000;, score=(train=-5723.887, test=-6720.935) total time=   3.9s\n",
      "[CV 3/5; 6/20] START eval_metric=<function mean_absolute_percentage_error at 0x0000022CD22251F0>, learning_rate=0.25994125041278, max_depth=9, n_estimators=1000\n"
     ]
    },
    {
     "name": "stderr",
     "output_type": "stream",
     "text": [
      "pandas.Int64Index is deprecated and will be removed from pandas in a future version. Use pandas.Index with the appropriate dtype instead.\n",
      "pandas.Int64Index is deprecated and will be removed from pandas in a future version. Use pandas.Index with the appropriate dtype instead.\n"
     ]
    },
    {
     "name": "stdout",
     "output_type": "stream",
     "text": [
      "[CV 3/5; 6/20] END eval_metric=<function mean_absolute_percentage_error at 0x0000022CD22251F0>, learning_rate=0.25994125041278, max_depth=9, n_estimators=1000;, score=(train=-5535.847, test=-6655.503) total time=   4.2s\n",
      "[CV 4/5; 6/20] START eval_metric=<function mean_absolute_percentage_error at 0x0000022CD22251F0>, learning_rate=0.25994125041278, max_depth=9, n_estimators=1000\n"
     ]
    },
    {
     "name": "stderr",
     "output_type": "stream",
     "text": [
      "pandas.Int64Index is deprecated and will be removed from pandas in a future version. Use pandas.Index with the appropriate dtype instead.\n",
      "pandas.Int64Index is deprecated and will be removed from pandas in a future version. Use pandas.Index with the appropriate dtype instead.\n"
     ]
    },
    {
     "name": "stdout",
     "output_type": "stream",
     "text": [
      "[CV 4/5; 6/20] END eval_metric=<function mean_absolute_percentage_error at 0x0000022CD22251F0>, learning_rate=0.25994125041278, max_depth=9, n_estimators=1000;, score=(train=-5338.775, test=-6673.367) total time=   5.2s\n",
      "[CV 5/5; 6/20] START eval_metric=<function mean_absolute_percentage_error at 0x0000022CD22251F0>, learning_rate=0.25994125041278, max_depth=9, n_estimators=1000\n"
     ]
    },
    {
     "name": "stderr",
     "output_type": "stream",
     "text": [
      "pandas.Int64Index is deprecated and will be removed from pandas in a future version. Use pandas.Index with the appropriate dtype instead.\n",
      "pandas.Int64Index is deprecated and will be removed from pandas in a future version. Use pandas.Index with the appropriate dtype instead.\n"
     ]
    },
    {
     "name": "stdout",
     "output_type": "stream",
     "text": [
      "[CV 5/5; 6/20] END eval_metric=<function mean_absolute_percentage_error at 0x0000022CD22251F0>, learning_rate=0.25994125041278, max_depth=9, n_estimators=1000;, score=(train=-5525.282, test=-6483.369) total time=   4.1s\n",
      "[CV 1/5; 7/20] START eval_metric=<function mean_absolute_percentage_error at 0x0000022CD22251F0>, learning_rate=0.4444007291039043, max_depth=12, n_estimators=1000\n"
     ]
    },
    {
     "name": "stderr",
     "output_type": "stream",
     "text": [
      "pandas.Int64Index is deprecated and will be removed from pandas in a future version. Use pandas.Index with the appropriate dtype instead.\n",
      "pandas.Int64Index is deprecated and will be removed from pandas in a future version. Use pandas.Index with the appropriate dtype instead.\n"
     ]
    },
    {
     "name": "stdout",
     "output_type": "stream",
     "text": [
      "[CV 1/5; 7/20] END eval_metric=<function mean_absolute_percentage_error at 0x0000022CD22251F0>, learning_rate=0.4444007291039043, max_depth=12, n_estimators=1000;, score=(train=-4879.810, test=-6822.624) total time=   5.3s\n",
      "[CV 2/5; 7/20] START eval_metric=<function mean_absolute_percentage_error at 0x0000022CD22251F0>, learning_rate=0.4444007291039043, max_depth=12, n_estimators=1000\n"
     ]
    },
    {
     "name": "stderr",
     "output_type": "stream",
     "text": [
      "pandas.Int64Index is deprecated and will be removed from pandas in a future version. Use pandas.Index with the appropriate dtype instead.\n",
      "pandas.Int64Index is deprecated and will be removed from pandas in a future version. Use pandas.Index with the appropriate dtype instead.\n"
     ]
    },
    {
     "name": "stdout",
     "output_type": "stream",
     "text": [
      "[CV 2/5; 7/20] END eval_metric=<function mean_absolute_percentage_error at 0x0000022CD22251F0>, learning_rate=0.4444007291039043, max_depth=12, n_estimators=1000;, score=(train=-4825.656, test=-6916.835) total time=   4.6s\n",
      "[CV 3/5; 7/20] START eval_metric=<function mean_absolute_percentage_error at 0x0000022CD22251F0>, learning_rate=0.4444007291039043, max_depth=12, n_estimators=1000\n"
     ]
    },
    {
     "name": "stderr",
     "output_type": "stream",
     "text": [
      "pandas.Int64Index is deprecated and will be removed from pandas in a future version. Use pandas.Index with the appropriate dtype instead.\n",
      "pandas.Int64Index is deprecated and will be removed from pandas in a future version. Use pandas.Index with the appropriate dtype instead.\n"
     ]
    },
    {
     "name": "stdout",
     "output_type": "stream",
     "text": [
      "[CV 3/5; 7/20] END eval_metric=<function mean_absolute_percentage_error at 0x0000022CD22251F0>, learning_rate=0.4444007291039043, max_depth=12, n_estimators=1000;, score=(train=-4973.141, test=-6953.291) total time=   4.0s\n",
      "[CV 4/5; 7/20] START eval_metric=<function mean_absolute_percentage_error at 0x0000022CD22251F0>, learning_rate=0.4444007291039043, max_depth=12, n_estimators=1000\n"
     ]
    },
    {
     "name": "stderr",
     "output_type": "stream",
     "text": [
      "pandas.Int64Index is deprecated and will be removed from pandas in a future version. Use pandas.Index with the appropriate dtype instead.\n",
      "pandas.Int64Index is deprecated and will be removed from pandas in a future version. Use pandas.Index with the appropriate dtype instead.\n"
     ]
    },
    {
     "name": "stdout",
     "output_type": "stream",
     "text": [
      "[CV 4/5; 7/20] END eval_metric=<function mean_absolute_percentage_error at 0x0000022CD22251F0>, learning_rate=0.4444007291039043, max_depth=12, n_estimators=1000;, score=(train=-4707.864, test=-7056.605) total time=   4.8s\n",
      "[CV 5/5; 7/20] START eval_metric=<function mean_absolute_percentage_error at 0x0000022CD22251F0>, learning_rate=0.4444007291039043, max_depth=12, n_estimators=1000\n"
     ]
    },
    {
     "name": "stderr",
     "output_type": "stream",
     "text": [
      "pandas.Int64Index is deprecated and will be removed from pandas in a future version. Use pandas.Index with the appropriate dtype instead.\n",
      "pandas.Int64Index is deprecated and will be removed from pandas in a future version. Use pandas.Index with the appropriate dtype instead.\n"
     ]
    },
    {
     "name": "stdout",
     "output_type": "stream",
     "text": [
      "[CV 5/5; 7/20] END eval_metric=<function mean_absolute_percentage_error at 0x0000022CD22251F0>, learning_rate=0.4444007291039043, max_depth=12, n_estimators=1000;, score=(train=-5469.797, test=-7043.763) total time=   3.4s\n",
      "[CV 1/5; 8/20] START eval_metric=<function mean_absolute_percentage_error at 0x0000022CD22251F0>, learning_rate=0.2004705665742692, max_depth=12, n_estimators=1000\n"
     ]
    },
    {
     "name": "stderr",
     "output_type": "stream",
     "text": [
      "pandas.Int64Index is deprecated and will be removed from pandas in a future version. Use pandas.Index with the appropriate dtype instead.\n",
      "pandas.Int64Index is deprecated and will be removed from pandas in a future version. Use pandas.Index with the appropriate dtype instead.\n"
     ]
    },
    {
     "name": "stdout",
     "output_type": "stream",
     "text": [
      "[CV 1/5; 8/20] END eval_metric=<function mean_absolute_percentage_error at 0x0000022CD22251F0>, learning_rate=0.2004705665742692, max_depth=12, n_estimators=1000;, score=(train=-4770.237, test=-6667.199) total time=   7.9s\n",
      "[CV 2/5; 8/20] START eval_metric=<function mean_absolute_percentage_error at 0x0000022CD22251F0>, learning_rate=0.2004705665742692, max_depth=12, n_estimators=1000\n"
     ]
    },
    {
     "name": "stderr",
     "output_type": "stream",
     "text": [
      "pandas.Int64Index is deprecated and will be removed from pandas in a future version. Use pandas.Index with the appropriate dtype instead.\n",
      "pandas.Int64Index is deprecated and will be removed from pandas in a future version. Use pandas.Index with the appropriate dtype instead.\n"
     ]
    },
    {
     "name": "stdout",
     "output_type": "stream",
     "text": [
      "[CV 2/5; 8/20] END eval_metric=<function mean_absolute_percentage_error at 0x0000022CD22251F0>, learning_rate=0.2004705665742692, max_depth=12, n_estimators=1000;, score=(train=-4901.447, test=-6834.698) total time=   7.2s\n",
      "[CV 3/5; 8/20] START eval_metric=<function mean_absolute_percentage_error at 0x0000022CD22251F0>, learning_rate=0.2004705665742692, max_depth=12, n_estimators=1000\n"
     ]
    },
    {
     "name": "stderr",
     "output_type": "stream",
     "text": [
      "pandas.Int64Index is deprecated and will be removed from pandas in a future version. Use pandas.Index with the appropriate dtype instead.\n",
      "pandas.Int64Index is deprecated and will be removed from pandas in a future version. Use pandas.Index with the appropriate dtype instead.\n"
     ]
    },
    {
     "name": "stdout",
     "output_type": "stream",
     "text": [
      "[CV 3/5; 8/20] END eval_metric=<function mean_absolute_percentage_error at 0x0000022CD22251F0>, learning_rate=0.2004705665742692, max_depth=12, n_estimators=1000;, score=(train=-4971.802, test=-6864.382) total time=   6.6s\n",
      "[CV 4/5; 8/20] START eval_metric=<function mean_absolute_percentage_error at 0x0000022CD22251F0>, learning_rate=0.2004705665742692, max_depth=12, n_estimators=1000\n"
     ]
    },
    {
     "name": "stderr",
     "output_type": "stream",
     "text": [
      "pandas.Int64Index is deprecated and will be removed from pandas in a future version. Use pandas.Index with the appropriate dtype instead.\n",
      "pandas.Int64Index is deprecated and will be removed from pandas in a future version. Use pandas.Index with the appropriate dtype instead.\n"
     ]
    },
    {
     "name": "stdout",
     "output_type": "stream",
     "text": [
      "[CV 4/5; 8/20] END eval_metric=<function mean_absolute_percentage_error at 0x0000022CD22251F0>, learning_rate=0.2004705665742692, max_depth=12, n_estimators=1000;, score=(train=-4298.385, test=-6819.274) total time=  10.3s\n",
      "[CV 5/5; 8/20] START eval_metric=<function mean_absolute_percentage_error at 0x0000022CD22251F0>, learning_rate=0.2004705665742692, max_depth=12, n_estimators=1000\n"
     ]
    },
    {
     "name": "stderr",
     "output_type": "stream",
     "text": [
      "pandas.Int64Index is deprecated and will be removed from pandas in a future version. Use pandas.Index with the appropriate dtype instead.\n",
      "pandas.Int64Index is deprecated and will be removed from pandas in a future version. Use pandas.Index with the appropriate dtype instead.\n"
     ]
    },
    {
     "name": "stdout",
     "output_type": "stream",
     "text": [
      "[CV 5/5; 8/20] END eval_metric=<function mean_absolute_percentage_error at 0x0000022CD22251F0>, learning_rate=0.2004705665742692, max_depth=12, n_estimators=1000;, score=(train=-5067.710, test=-6782.031) total time=   6.4s\n",
      "[CV 1/5; 9/20] START eval_metric=<function mean_absolute_percentage_error at 0x0000022CD22251F0>, learning_rate=0.15407279965399678, max_depth=8, n_estimators=1000\n"
     ]
    },
    {
     "name": "stderr",
     "output_type": "stream",
     "text": [
      "pandas.Int64Index is deprecated and will be removed from pandas in a future version. Use pandas.Index with the appropriate dtype instead.\n",
      "pandas.Int64Index is deprecated and will be removed from pandas in a future version. Use pandas.Index with the appropriate dtype instead.\n"
     ]
    },
    {
     "name": "stdout",
     "output_type": "stream",
     "text": [
      "[CV 1/5; 9/20] END eval_metric=<function mean_absolute_percentage_error at 0x0000022CD22251F0>, learning_rate=0.15407279965399678, max_depth=8, n_estimators=1000;, score=(train=-5685.279, test=-6431.715) total time=   6.5s\n",
      "[CV 2/5; 9/20] START eval_metric=<function mean_absolute_percentage_error at 0x0000022CD22251F0>, learning_rate=0.15407279965399678, max_depth=8, n_estimators=1000\n"
     ]
    },
    {
     "name": "stderr",
     "output_type": "stream",
     "text": [
      "pandas.Int64Index is deprecated and will be removed from pandas in a future version. Use pandas.Index with the appropriate dtype instead.\n",
      "pandas.Int64Index is deprecated and will be removed from pandas in a future version. Use pandas.Index with the appropriate dtype instead.\n"
     ]
    },
    {
     "name": "stdout",
     "output_type": "stream",
     "text": [
      "[CV 2/5; 9/20] END eval_metric=<function mean_absolute_percentage_error at 0x0000022CD22251F0>, learning_rate=0.15407279965399678, max_depth=8, n_estimators=1000;, score=(train=-5710.418, test=-6585.440) total time=   6.0s\n",
      "[CV 3/5; 9/20] START eval_metric=<function mean_absolute_percentage_error at 0x0000022CD22251F0>, learning_rate=0.15407279965399678, max_depth=8, n_estimators=1000\n"
     ]
    },
    {
     "name": "stderr",
     "output_type": "stream",
     "text": [
      "pandas.Int64Index is deprecated and will be removed from pandas in a future version. Use pandas.Index with the appropriate dtype instead.\n",
      "pandas.Int64Index is deprecated and will be removed from pandas in a future version. Use pandas.Index with the appropriate dtype instead.\n"
     ]
    },
    {
     "name": "stdout",
     "output_type": "stream",
     "text": [
      "[CV 3/5; 9/20] END eval_metric=<function mean_absolute_percentage_error at 0x0000022CD22251F0>, learning_rate=0.15407279965399678, max_depth=8, n_estimators=1000;, score=(train=-5600.610, test=-6499.742) total time=   7.7s\n",
      "[CV 4/5; 9/20] START eval_metric=<function mean_absolute_percentage_error at 0x0000022CD22251F0>, learning_rate=0.15407279965399678, max_depth=8, n_estimators=1000\n"
     ]
    },
    {
     "name": "stderr",
     "output_type": "stream",
     "text": [
      "pandas.Int64Index is deprecated and will be removed from pandas in a future version. Use pandas.Index with the appropriate dtype instead.\n",
      "pandas.Int64Index is deprecated and will be removed from pandas in a future version. Use pandas.Index with the appropriate dtype instead.\n"
     ]
    },
    {
     "name": "stdout",
     "output_type": "stream",
     "text": [
      "[CV 4/5; 9/20] END eval_metric=<function mean_absolute_percentage_error at 0x0000022CD22251F0>, learning_rate=0.15407279965399678, max_depth=8, n_estimators=1000;, score=(train=-5567.599, test=-6553.663) total time=   7.2s\n",
      "[CV 5/5; 9/20] START eval_metric=<function mean_absolute_percentage_error at 0x0000022CD22251F0>, learning_rate=0.15407279965399678, max_depth=8, n_estimators=1000\n"
     ]
    },
    {
     "name": "stderr",
     "output_type": "stream",
     "text": [
      "pandas.Int64Index is deprecated and will be removed from pandas in a future version. Use pandas.Index with the appropriate dtype instead.\n",
      "pandas.Int64Index is deprecated and will be removed from pandas in a future version. Use pandas.Index with the appropriate dtype instead.\n"
     ]
    },
    {
     "name": "stdout",
     "output_type": "stream",
     "text": [
      "[CV 5/5; 9/20] END eval_metric=<function mean_absolute_percentage_error at 0x0000022CD22251F0>, learning_rate=0.15407279965399678, max_depth=8, n_estimators=1000;, score=(train=-5666.330, test=-6364.695) total time=   7.0s\n",
      "[CV 1/5; 10/20] START eval_metric=<function mean_absolute_percentage_error at 0x0000022CD22251F0>, learning_rate=0.3570157877109399, max_depth=10, n_estimators=1000\n"
     ]
    },
    {
     "name": "stderr",
     "output_type": "stream",
     "text": [
      "pandas.Int64Index is deprecated and will be removed from pandas in a future version. Use pandas.Index with the appropriate dtype instead.\n",
      "pandas.Int64Index is deprecated and will be removed from pandas in a future version. Use pandas.Index with the appropriate dtype instead.\n"
     ]
    },
    {
     "name": "stdout",
     "output_type": "stream",
     "text": [
      "[CV 1/5; 10/20] END eval_metric=<function mean_absolute_percentage_error at 0x0000022CD22251F0>, learning_rate=0.3570157877109399, max_depth=10, n_estimators=1000;, score=(train=-5343.825, test=-6647.577) total time=   3.5s\n",
      "[CV 2/5; 10/20] START eval_metric=<function mean_absolute_percentage_error at 0x0000022CD22251F0>, learning_rate=0.3570157877109399, max_depth=10, n_estimators=1000\n"
     ]
    },
    {
     "name": "stderr",
     "output_type": "stream",
     "text": [
      "pandas.Int64Index is deprecated and will be removed from pandas in a future version. Use pandas.Index with the appropriate dtype instead.\n",
      "pandas.Int64Index is deprecated and will be removed from pandas in a future version. Use pandas.Index with the appropriate dtype instead.\n"
     ]
    },
    {
     "name": "stdout",
     "output_type": "stream",
     "text": [
      "[CV 2/5; 10/20] END eval_metric=<function mean_absolute_percentage_error at 0x0000022CD22251F0>, learning_rate=0.3570157877109399, max_depth=10, n_estimators=1000;, score=(train=-5226.055, test=-6732.468) total time=   4.1s\n",
      "[CV 3/5; 10/20] START eval_metric=<function mean_absolute_percentage_error at 0x0000022CD22251F0>, learning_rate=0.3570157877109399, max_depth=10, n_estimators=1000\n"
     ]
    },
    {
     "name": "stderr",
     "output_type": "stream",
     "text": [
      "pandas.Int64Index is deprecated and will be removed from pandas in a future version. Use pandas.Index with the appropriate dtype instead.\n",
      "pandas.Int64Index is deprecated and will be removed from pandas in a future version. Use pandas.Index with the appropriate dtype instead.\n"
     ]
    },
    {
     "name": "stdout",
     "output_type": "stream",
     "text": [
      "[CV 3/5; 10/20] END eval_metric=<function mean_absolute_percentage_error at 0x0000022CD22251F0>, learning_rate=0.3570157877109399, max_depth=10, n_estimators=1000;, score=(train=-5539.580, test=-6875.112) total time=   3.3s\n",
      "[CV 4/5; 10/20] START eval_metric=<function mean_absolute_percentage_error at 0x0000022CD22251F0>, learning_rate=0.3570157877109399, max_depth=10, n_estimators=1000\n"
     ]
    },
    {
     "name": "stderr",
     "output_type": "stream",
     "text": [
      "pandas.Int64Index is deprecated and will be removed from pandas in a future version. Use pandas.Index with the appropriate dtype instead.\n",
      "pandas.Int64Index is deprecated and will be removed from pandas in a future version. Use pandas.Index with the appropriate dtype instead.\n"
     ]
    },
    {
     "name": "stdout",
     "output_type": "stream",
     "text": [
      "[CV 4/5; 10/20] END eval_metric=<function mean_absolute_percentage_error at 0x0000022CD22251F0>, learning_rate=0.3570157877109399, max_depth=10, n_estimators=1000;, score=(train=-5115.260, test=-6825.943) total time=   4.6s\n",
      "[CV 5/5; 10/20] START eval_metric=<function mean_absolute_percentage_error at 0x0000022CD22251F0>, learning_rate=0.3570157877109399, max_depth=10, n_estimators=1000\n"
     ]
    },
    {
     "name": "stderr",
     "output_type": "stream",
     "text": [
      "pandas.Int64Index is deprecated and will be removed from pandas in a future version. Use pandas.Index with the appropriate dtype instead.\n",
      "pandas.Int64Index is deprecated and will be removed from pandas in a future version. Use pandas.Index with the appropriate dtype instead.\n"
     ]
    },
    {
     "name": "stdout",
     "output_type": "stream",
     "text": [
      "[CV 5/5; 10/20] END eval_metric=<function mean_absolute_percentage_error at 0x0000022CD22251F0>, learning_rate=0.3570157877109399, max_depth=10, n_estimators=1000;, score=(train=-5356.504, test=-6599.410) total time=   3.8s\n",
      "[CV 1/5; 11/20] START eval_metric=<function mean_absolute_percentage_error at 0x0000022CD22251F0>, learning_rate=0.47476409558656074, max_depth=12, n_estimators=1000\n"
     ]
    },
    {
     "name": "stderr",
     "output_type": "stream",
     "text": [
      "pandas.Int64Index is deprecated and will be removed from pandas in a future version. Use pandas.Index with the appropriate dtype instead.\n",
      "pandas.Int64Index is deprecated and will be removed from pandas in a future version. Use pandas.Index with the appropriate dtype instead.\n"
     ]
    },
    {
     "name": "stdout",
     "output_type": "stream",
     "text": [
      "[CV 1/5; 11/20] END eval_metric=<function mean_absolute_percentage_error at 0x0000022CD22251F0>, learning_rate=0.47476409558656074, max_depth=12, n_estimators=1000;, score=(train=-4907.166, test=-6826.725) total time=   3.5s\n",
      "[CV 2/5; 11/20] START eval_metric=<function mean_absolute_percentage_error at 0x0000022CD22251F0>, learning_rate=0.47476409558656074, max_depth=12, n_estimators=1000\n"
     ]
    },
    {
     "name": "stderr",
     "output_type": "stream",
     "text": [
      "pandas.Int64Index is deprecated and will be removed from pandas in a future version. Use pandas.Index with the appropriate dtype instead.\n",
      "pandas.Int64Index is deprecated and will be removed from pandas in a future version. Use pandas.Index with the appropriate dtype instead.\n"
     ]
    },
    {
     "name": "stdout",
     "output_type": "stream",
     "text": [
      "[CV 2/5; 11/20] END eval_metric=<function mean_absolute_percentage_error at 0x0000022CD22251F0>, learning_rate=0.47476409558656074, max_depth=12, n_estimators=1000;, score=(train=-4945.818, test=-7042.002) total time=   3.3s\n",
      "[CV 3/5; 11/20] START eval_metric=<function mean_absolute_percentage_error at 0x0000022CD22251F0>, learning_rate=0.47476409558656074, max_depth=12, n_estimators=1000\n"
     ]
    },
    {
     "name": "stderr",
     "output_type": "stream",
     "text": [
      "pandas.Int64Index is deprecated and will be removed from pandas in a future version. Use pandas.Index with the appropriate dtype instead.\n",
      "pandas.Int64Index is deprecated and will be removed from pandas in a future version. Use pandas.Index with the appropriate dtype instead.\n"
     ]
    },
    {
     "name": "stdout",
     "output_type": "stream",
     "text": [
      "[CV 3/5; 11/20] END eval_metric=<function mean_absolute_percentage_error at 0x0000022CD22251F0>, learning_rate=0.47476409558656074, max_depth=12, n_estimators=1000;, score=(train=-5063.664, test=-7008.326) total time=   3.3s\n",
      "[CV 4/5; 11/20] START eval_metric=<function mean_absolute_percentage_error at 0x0000022CD22251F0>, learning_rate=0.47476409558656074, max_depth=12, n_estimators=1000\n"
     ]
    },
    {
     "name": "stderr",
     "output_type": "stream",
     "text": [
      "pandas.Int64Index is deprecated and will be removed from pandas in a future version. Use pandas.Index with the appropriate dtype instead.\n",
      "pandas.Int64Index is deprecated and will be removed from pandas in a future version. Use pandas.Index with the appropriate dtype instead.\n"
     ]
    },
    {
     "name": "stdout",
     "output_type": "stream",
     "text": [
      "[CV 4/5; 11/20] END eval_metric=<function mean_absolute_percentage_error at 0x0000022CD22251F0>, learning_rate=0.47476409558656074, max_depth=12, n_estimators=1000;, score=(train=-5217.449, test=-7080.883) total time=   3.1s\n",
      "[CV 5/5; 11/20] START eval_metric=<function mean_absolute_percentage_error at 0x0000022CD22251F0>, learning_rate=0.47476409558656074, max_depth=12, n_estimators=1000\n"
     ]
    },
    {
     "name": "stderr",
     "output_type": "stream",
     "text": [
      "pandas.Int64Index is deprecated and will be removed from pandas in a future version. Use pandas.Index with the appropriate dtype instead.\n",
      "pandas.Int64Index is deprecated and will be removed from pandas in a future version. Use pandas.Index with the appropriate dtype instead.\n"
     ]
    },
    {
     "name": "stdout",
     "output_type": "stream",
     "text": [
      "[CV 5/5; 11/20] END eval_metric=<function mean_absolute_percentage_error at 0x0000022CD22251F0>, learning_rate=0.47476409558656074, max_depth=12, n_estimators=1000;, score=(train=-5087.498, test=-6858.833) total time=   3.4s\n",
      "[CV 1/5; 12/20] START eval_metric=<function mean_absolute_percentage_error at 0x0000022CD22251F0>, learning_rate=0.02244961377517401, max_depth=5, n_estimators=1000\n"
     ]
    },
    {
     "name": "stderr",
     "output_type": "stream",
     "text": [
      "pandas.Int64Index is deprecated and will be removed from pandas in a future version. Use pandas.Index with the appropriate dtype instead.\n",
      "pandas.Int64Index is deprecated and will be removed from pandas in a future version. Use pandas.Index with the appropriate dtype instead.\n"
     ]
    },
    {
     "name": "stdout",
     "output_type": "stream",
     "text": [
      "[CV 1/5; 12/20] END eval_metric=<function mean_absolute_percentage_error at 0x0000022CD22251F0>, learning_rate=0.02244961377517401, max_depth=5, n_estimators=1000;, score=(train=-6216.019, test=-6341.223) total time=  30.2s\n",
      "[CV 2/5; 12/20] START eval_metric=<function mean_absolute_percentage_error at 0x0000022CD22251F0>, learning_rate=0.02244961377517401, max_depth=5, n_estimators=1000\n"
     ]
    },
    {
     "name": "stderr",
     "output_type": "stream",
     "text": [
      "pandas.Int64Index is deprecated and will be removed from pandas in a future version. Use pandas.Index with the appropriate dtype instead.\n",
      "pandas.Int64Index is deprecated and will be removed from pandas in a future version. Use pandas.Index with the appropriate dtype instead.\n"
     ]
    },
    {
     "name": "stdout",
     "output_type": "stream",
     "text": [
      "[CV 2/5; 12/20] END eval_metric=<function mean_absolute_percentage_error at 0x0000022CD22251F0>, learning_rate=0.02244961377517401, max_depth=5, n_estimators=1000;, score=(train=-6167.937, test=-6468.036) total time=  28.8s\n",
      "[CV 3/5; 12/20] START eval_metric=<function mean_absolute_percentage_error at 0x0000022CD22251F0>, learning_rate=0.02244961377517401, max_depth=5, n_estimators=1000\n"
     ]
    },
    {
     "name": "stderr",
     "output_type": "stream",
     "text": [
      "pandas.Int64Index is deprecated and will be removed from pandas in a future version. Use pandas.Index with the appropriate dtype instead.\n",
      "pandas.Int64Index is deprecated and will be removed from pandas in a future version. Use pandas.Index with the appropriate dtype instead.\n"
     ]
    },
    {
     "name": "stdout",
     "output_type": "stream",
     "text": [
      "[CV 3/5; 12/20] END eval_metric=<function mean_absolute_percentage_error at 0x0000022CD22251F0>, learning_rate=0.02244961377517401, max_depth=5, n_estimators=1000;, score=(train=-6216.456, test=-6466.916) total time=  28.7s\n",
      "[CV 4/5; 12/20] START eval_metric=<function mean_absolute_percentage_error at 0x0000022CD22251F0>, learning_rate=0.02244961377517401, max_depth=5, n_estimators=1000\n"
     ]
    },
    {
     "name": "stderr",
     "output_type": "stream",
     "text": [
      "pandas.Int64Index is deprecated and will be removed from pandas in a future version. Use pandas.Index with the appropriate dtype instead.\n",
      "pandas.Int64Index is deprecated and will be removed from pandas in a future version. Use pandas.Index with the appropriate dtype instead.\n"
     ]
    },
    {
     "name": "stdout",
     "output_type": "stream",
     "text": [
      "[CV 4/5; 12/20] END eval_metric=<function mean_absolute_percentage_error at 0x0000022CD22251F0>, learning_rate=0.02244961377517401, max_depth=5, n_estimators=1000;, score=(train=-6197.324, test=-6556.300) total time=  27.3s\n",
      "[CV 5/5; 12/20] START eval_metric=<function mean_absolute_percentage_error at 0x0000022CD22251F0>, learning_rate=0.02244961377517401, max_depth=5, n_estimators=1000\n"
     ]
    },
    {
     "name": "stderr",
     "output_type": "stream",
     "text": [
      "pandas.Int64Index is deprecated and will be removed from pandas in a future version. Use pandas.Index with the appropriate dtype instead.\n",
      "pandas.Int64Index is deprecated and will be removed from pandas in a future version. Use pandas.Index with the appropriate dtype instead.\n"
     ]
    },
    {
     "name": "stdout",
     "output_type": "stream",
     "text": [
      "[CV 5/5; 12/20] END eval_metric=<function mean_absolute_percentage_error at 0x0000022CD22251F0>, learning_rate=0.02244961377517401, max_depth=5, n_estimators=1000;, score=(train=-6219.123, test=-6341.926) total time=  30.5s\n",
      "[CV 1/5; 13/20] START eval_metric=<function mean_absolute_percentage_error at 0x0000022CD22251F0>, learning_rate=0.43564729314410267, max_depth=14, n_estimators=1000\n"
     ]
    },
    {
     "name": "stderr",
     "output_type": "stream",
     "text": [
      "pandas.Int64Index is deprecated and will be removed from pandas in a future version. Use pandas.Index with the appropriate dtype instead.\n",
      "pandas.Int64Index is deprecated and will be removed from pandas in a future version. Use pandas.Index with the appropriate dtype instead.\n"
     ]
    },
    {
     "name": "stdout",
     "output_type": "stream",
     "text": [
      "[CV 1/5; 13/20] END eval_metric=<function mean_absolute_percentage_error at 0x0000022CD22251F0>, learning_rate=0.43564729314410267, max_depth=14, n_estimators=1000;, score=(train=-4689.905, test=-7082.913) total time=   3.9s\n",
      "[CV 2/5; 13/20] START eval_metric=<function mean_absolute_percentage_error at 0x0000022CD22251F0>, learning_rate=0.43564729314410267, max_depth=14, n_estimators=1000\n"
     ]
    },
    {
     "name": "stderr",
     "output_type": "stream",
     "text": [
      "pandas.Int64Index is deprecated and will be removed from pandas in a future version. Use pandas.Index with the appropriate dtype instead.\n",
      "pandas.Int64Index is deprecated and will be removed from pandas in a future version. Use pandas.Index with the appropriate dtype instead.\n"
     ]
    },
    {
     "name": "stdout",
     "output_type": "stream",
     "text": [
      "[CV 2/5; 13/20] END eval_metric=<function mean_absolute_percentage_error at 0x0000022CD22251F0>, learning_rate=0.43564729314410267, max_depth=14, n_estimators=1000;, score=(train=-4505.052, test=-7082.688) total time=   4.2s\n",
      "[CV 3/5; 13/20] START eval_metric=<function mean_absolute_percentage_error at 0x0000022CD22251F0>, learning_rate=0.43564729314410267, max_depth=14, n_estimators=1000\n"
     ]
    },
    {
     "name": "stderr",
     "output_type": "stream",
     "text": [
      "pandas.Int64Index is deprecated and will be removed from pandas in a future version. Use pandas.Index with the appropriate dtype instead.\n",
      "pandas.Int64Index is deprecated and will be removed from pandas in a future version. Use pandas.Index with the appropriate dtype instead.\n"
     ]
    },
    {
     "name": "stdout",
     "output_type": "stream",
     "text": [
      "[CV 3/5; 13/20] END eval_metric=<function mean_absolute_percentage_error at 0x0000022CD22251F0>, learning_rate=0.43564729314410267, max_depth=14, n_estimators=1000;, score=(train=-4343.400, test=-7034.677) total time=   4.6s\n",
      "[CV 4/5; 13/20] START eval_metric=<function mean_absolute_percentage_error at 0x0000022CD22251F0>, learning_rate=0.43564729314410267, max_depth=14, n_estimators=1000\n"
     ]
    },
    {
     "name": "stderr",
     "output_type": "stream",
     "text": [
      "pandas.Int64Index is deprecated and will be removed from pandas in a future version. Use pandas.Index with the appropriate dtype instead.\n",
      "pandas.Int64Index is deprecated and will be removed from pandas in a future version. Use pandas.Index with the appropriate dtype instead.\n"
     ]
    },
    {
     "name": "stdout",
     "output_type": "stream",
     "text": [
      "[CV 4/5; 13/20] END eval_metric=<function mean_absolute_percentage_error at 0x0000022CD22251F0>, learning_rate=0.43564729314410267, max_depth=14, n_estimators=1000;, score=(train=-4430.246, test=-7240.065) total time=   4.1s\n",
      "[CV 5/5; 13/20] START eval_metric=<function mean_absolute_percentage_error at 0x0000022CD22251F0>, learning_rate=0.43564729314410267, max_depth=14, n_estimators=1000\n"
     ]
    },
    {
     "name": "stderr",
     "output_type": "stream",
     "text": [
      "pandas.Int64Index is deprecated and will be removed from pandas in a future version. Use pandas.Index with the appropriate dtype instead.\n",
      "pandas.Int64Index is deprecated and will be removed from pandas in a future version. Use pandas.Index with the appropriate dtype instead.\n"
     ]
    },
    {
     "name": "stdout",
     "output_type": "stream",
     "text": [
      "[CV 5/5; 13/20] END eval_metric=<function mean_absolute_percentage_error at 0x0000022CD22251F0>, learning_rate=0.43564729314410267, max_depth=14, n_estimators=1000;, score=(train=-4732.323, test=-7004.003) total time=   3.8s\n",
      "[CV 1/5; 14/20] START eval_metric=<function mean_absolute_percentage_error at 0x0000022CD22251F0>, learning_rate=0.2842449596180152, max_depth=9, n_estimators=1000\n"
     ]
    },
    {
     "name": "stderr",
     "output_type": "stream",
     "text": [
      "pandas.Int64Index is deprecated and will be removed from pandas in a future version. Use pandas.Index with the appropriate dtype instead.\n",
      "pandas.Int64Index is deprecated and will be removed from pandas in a future version. Use pandas.Index with the appropriate dtype instead.\n"
     ]
    },
    {
     "name": "stdout",
     "output_type": "stream",
     "text": [
      "[CV 1/5; 14/20] END eval_metric=<function mean_absolute_percentage_error at 0x0000022CD22251F0>, learning_rate=0.2842449596180152, max_depth=9, n_estimators=1000;, score=(train=-5419.961, test=-6526.217) total time=   5.2s\n",
      "[CV 2/5; 14/20] START eval_metric=<function mean_absolute_percentage_error at 0x0000022CD22251F0>, learning_rate=0.2842449596180152, max_depth=9, n_estimators=1000\n"
     ]
    },
    {
     "name": "stderr",
     "output_type": "stream",
     "text": [
      "pandas.Int64Index is deprecated and will be removed from pandas in a future version. Use pandas.Index with the appropriate dtype instead.\n",
      "pandas.Int64Index is deprecated and will be removed from pandas in a future version. Use pandas.Index with the appropriate dtype instead.\n"
     ]
    },
    {
     "name": "stdout",
     "output_type": "stream",
     "text": [
      "[CV 2/5; 14/20] END eval_metric=<function mean_absolute_percentage_error at 0x0000022CD22251F0>, learning_rate=0.2842449596180152, max_depth=9, n_estimators=1000;, score=(train=-5771.159, test=-6823.517) total time=   3.3s\n",
      "[CV 3/5; 14/20] START eval_metric=<function mean_absolute_percentage_error at 0x0000022CD22251F0>, learning_rate=0.2842449596180152, max_depth=9, n_estimators=1000\n"
     ]
    },
    {
     "name": "stderr",
     "output_type": "stream",
     "text": [
      "pandas.Int64Index is deprecated and will be removed from pandas in a future version. Use pandas.Index with the appropriate dtype instead.\n",
      "pandas.Int64Index is deprecated and will be removed from pandas in a future version. Use pandas.Index with the appropriate dtype instead.\n"
     ]
    },
    {
     "name": "stdout",
     "output_type": "stream",
     "text": [
      "[CV 3/5; 14/20] END eval_metric=<function mean_absolute_percentage_error at 0x0000022CD22251F0>, learning_rate=0.2842449596180152, max_depth=9, n_estimators=1000;, score=(train=-5399.351, test=-6619.153) total time=   4.7s\n",
      "[CV 4/5; 14/20] START eval_metric=<function mean_absolute_percentage_error at 0x0000022CD22251F0>, learning_rate=0.2842449596180152, max_depth=9, n_estimators=1000\n"
     ]
    },
    {
     "name": "stderr",
     "output_type": "stream",
     "text": [
      "pandas.Int64Index is deprecated and will be removed from pandas in a future version. Use pandas.Index with the appropriate dtype instead.\n",
      "pandas.Int64Index is deprecated and will be removed from pandas in a future version. Use pandas.Index with the appropriate dtype instead.\n"
     ]
    },
    {
     "name": "stdout",
     "output_type": "stream",
     "text": [
      "[CV 4/5; 14/20] END eval_metric=<function mean_absolute_percentage_error at 0x0000022CD22251F0>, learning_rate=0.2842449596180152, max_depth=9, n_estimators=1000;, score=(train=-5428.907, test=-6697.381) total time=   4.3s\n",
      "[CV 5/5; 14/20] START eval_metric=<function mean_absolute_percentage_error at 0x0000022CD22251F0>, learning_rate=0.2842449596180152, max_depth=9, n_estimators=1000\n"
     ]
    },
    {
     "name": "stderr",
     "output_type": "stream",
     "text": [
      "pandas.Int64Index is deprecated and will be removed from pandas in a future version. Use pandas.Index with the appropriate dtype instead.\n",
      "pandas.Int64Index is deprecated and will be removed from pandas in a future version. Use pandas.Index with the appropriate dtype instead.\n"
     ]
    },
    {
     "name": "stdout",
     "output_type": "stream",
     "text": [
      "[CV 5/5; 14/20] END eval_metric=<function mean_absolute_percentage_error at 0x0000022CD22251F0>, learning_rate=0.2842449596180152, max_depth=9, n_estimators=1000;, score=(train=-5719.072, test=-6588.150) total time=   3.6s\n",
      "[CV 1/5; 15/20] START eval_metric=<function mean_absolute_percentage_error at 0x0000022CD22251F0>, learning_rate=0.47881466781038584, max_depth=12, n_estimators=1000\n"
     ]
    },
    {
     "name": "stderr",
     "output_type": "stream",
     "text": [
      "pandas.Int64Index is deprecated and will be removed from pandas in a future version. Use pandas.Index with the appropriate dtype instead.\n",
      "pandas.Int64Index is deprecated and will be removed from pandas in a future version. Use pandas.Index with the appropriate dtype instead.\n"
     ]
    },
    {
     "name": "stdout",
     "output_type": "stream",
     "text": [
      "[CV 1/5; 15/20] END eval_metric=<function mean_absolute_percentage_error at 0x0000022CD22251F0>, learning_rate=0.47881466781038584, max_depth=12, n_estimators=1000;, score=(train=-5063.159, test=-6845.716) total time=   3.2s\n",
      "[CV 2/5; 15/20] START eval_metric=<function mean_absolute_percentage_error at 0x0000022CD22251F0>, learning_rate=0.47881466781038584, max_depth=12, n_estimators=1000\n"
     ]
    },
    {
     "name": "stderr",
     "output_type": "stream",
     "text": [
      "pandas.Int64Index is deprecated and will be removed from pandas in a future version. Use pandas.Index with the appropriate dtype instead.\n",
      "pandas.Int64Index is deprecated and will be removed from pandas in a future version. Use pandas.Index with the appropriate dtype instead.\n"
     ]
    },
    {
     "name": "stdout",
     "output_type": "stream",
     "text": [
      "[CV 2/5; 15/20] END eval_metric=<function mean_absolute_percentage_error at 0x0000022CD22251F0>, learning_rate=0.47881466781038584, max_depth=12, n_estimators=1000;, score=(train=-5203.572, test=-7071.350) total time=   3.1s\n",
      "[CV 3/5; 15/20] START eval_metric=<function mean_absolute_percentage_error at 0x0000022CD22251F0>, learning_rate=0.47881466781038584, max_depth=12, n_estimators=1000\n"
     ]
    },
    {
     "name": "stderr",
     "output_type": "stream",
     "text": [
      "pandas.Int64Index is deprecated and will be removed from pandas in a future version. Use pandas.Index with the appropriate dtype instead.\n",
      "pandas.Int64Index is deprecated and will be removed from pandas in a future version. Use pandas.Index with the appropriate dtype instead.\n"
     ]
    },
    {
     "name": "stdout",
     "output_type": "stream",
     "text": [
      "[CV 3/5; 15/20] END eval_metric=<function mean_absolute_percentage_error at 0x0000022CD22251F0>, learning_rate=0.47881466781038584, max_depth=12, n_estimators=1000;, score=(train=-5235.182, test=-7044.020) total time=   3.1s\n",
      "[CV 4/5; 15/20] START eval_metric=<function mean_absolute_percentage_error at 0x0000022CD22251F0>, learning_rate=0.47881466781038584, max_depth=12, n_estimators=1000\n"
     ]
    },
    {
     "name": "stderr",
     "output_type": "stream",
     "text": [
      "pandas.Int64Index is deprecated and will be removed from pandas in a future version. Use pandas.Index with the appropriate dtype instead.\n",
      "pandas.Int64Index is deprecated and will be removed from pandas in a future version. Use pandas.Index with the appropriate dtype instead.\n"
     ]
    },
    {
     "name": "stdout",
     "output_type": "stream",
     "text": [
      "[CV 4/5; 15/20] END eval_metric=<function mean_absolute_percentage_error at 0x0000022CD22251F0>, learning_rate=0.47881466781038584, max_depth=12, n_estimators=1000;, score=(train=-5220.021, test=-7081.539) total time=   3.2s\n",
      "[CV 5/5; 15/20] START eval_metric=<function mean_absolute_percentage_error at 0x0000022CD22251F0>, learning_rate=0.47881466781038584, max_depth=12, n_estimators=1000\n"
     ]
    },
    {
     "name": "stderr",
     "output_type": "stream",
     "text": [
      "pandas.Int64Index is deprecated and will be removed from pandas in a future version. Use pandas.Index with the appropriate dtype instead.\n",
      "pandas.Int64Index is deprecated and will be removed from pandas in a future version. Use pandas.Index with the appropriate dtype instead.\n"
     ]
    },
    {
     "name": "stdout",
     "output_type": "stream",
     "text": [
      "[CV 5/5; 15/20] END eval_metric=<function mean_absolute_percentage_error at 0x0000022CD22251F0>, learning_rate=0.47881466781038584, max_depth=12, n_estimators=1000;, score=(train=-5262.646, test=-6896.463) total time=   3.1s\n",
      "[CV 1/5; 16/20] START eval_metric=<function mean_absolute_percentage_error at 0x0000022CD22251F0>, learning_rate=0.2717062903368829, max_depth=13, n_estimators=1000\n"
     ]
    },
    {
     "name": "stderr",
     "output_type": "stream",
     "text": [
      "pandas.Int64Index is deprecated and will be removed from pandas in a future version. Use pandas.Index with the appropriate dtype instead.\n",
      "pandas.Int64Index is deprecated and will be removed from pandas in a future version. Use pandas.Index with the appropriate dtype instead.\n"
     ]
    },
    {
     "name": "stdout",
     "output_type": "stream",
     "text": [
      "[CV 1/5; 16/20] END eval_metric=<function mean_absolute_percentage_error at 0x0000022CD22251F0>, learning_rate=0.2717062903368829, max_depth=13, n_estimators=1000;, score=(train=-4531.584, test=-6749.865) total time=   5.8s\n",
      "[CV 2/5; 16/20] START eval_metric=<function mean_absolute_percentage_error at 0x0000022CD22251F0>, learning_rate=0.2717062903368829, max_depth=13, n_estimators=1000\n"
     ]
    },
    {
     "name": "stderr",
     "output_type": "stream",
     "text": [
      "pandas.Int64Index is deprecated and will be removed from pandas in a future version. Use pandas.Index with the appropriate dtype instead.\n",
      "pandas.Int64Index is deprecated and will be removed from pandas in a future version. Use pandas.Index with the appropriate dtype instead.\n"
     ]
    },
    {
     "name": "stdout",
     "output_type": "stream",
     "text": [
      "[CV 2/5; 16/20] END eval_metric=<function mean_absolute_percentage_error at 0x0000022CD22251F0>, learning_rate=0.2717062903368829, max_depth=13, n_estimators=1000;, score=(train=-4526.705, test=-6865.652) total time=   5.8s\n",
      "[CV 3/5; 16/20] START eval_metric=<function mean_absolute_percentage_error at 0x0000022CD22251F0>, learning_rate=0.2717062903368829, max_depth=13, n_estimators=1000\n"
     ]
    },
    {
     "name": "stderr",
     "output_type": "stream",
     "text": [
      "pandas.Int64Index is deprecated and will be removed from pandas in a future version. Use pandas.Index with the appropriate dtype instead.\n",
      "pandas.Int64Index is deprecated and will be removed from pandas in a future version. Use pandas.Index with the appropriate dtype instead.\n"
     ]
    },
    {
     "name": "stdout",
     "output_type": "stream",
     "text": [
      "[CV 3/5; 16/20] END eval_metric=<function mean_absolute_percentage_error at 0x0000022CD22251F0>, learning_rate=0.2717062903368829, max_depth=13, n_estimators=1000;, score=(train=-4577.634, test=-6923.368) total time=   5.4s\n",
      "[CV 4/5; 16/20] START eval_metric=<function mean_absolute_percentage_error at 0x0000022CD22251F0>, learning_rate=0.2717062903368829, max_depth=13, n_estimators=1000\n"
     ]
    },
    {
     "name": "stderr",
     "output_type": "stream",
     "text": [
      "pandas.Int64Index is deprecated and will be removed from pandas in a future version. Use pandas.Index with the appropriate dtype instead.\n",
      "pandas.Int64Index is deprecated and will be removed from pandas in a future version. Use pandas.Index with the appropriate dtype instead.\n"
     ]
    },
    {
     "name": "stdout",
     "output_type": "stream",
     "text": [
      "[CV 4/5; 16/20] END eval_metric=<function mean_absolute_percentage_error at 0x0000022CD22251F0>, learning_rate=0.2717062903368829, max_depth=13, n_estimators=1000;, score=(train=-4424.476, test=-6959.986) total time=   5.9s\n",
      "[CV 5/5; 16/20] START eval_metric=<function mean_absolute_percentage_error at 0x0000022CD22251F0>, learning_rate=0.2717062903368829, max_depth=13, n_estimators=1000\n"
     ]
    },
    {
     "name": "stderr",
     "output_type": "stream",
     "text": [
      "pandas.Int64Index is deprecated and will be removed from pandas in a future version. Use pandas.Index with the appropriate dtype instead.\n",
      "pandas.Int64Index is deprecated and will be removed from pandas in a future version. Use pandas.Index with the appropriate dtype instead.\n"
     ]
    },
    {
     "name": "stdout",
     "output_type": "stream",
     "text": [
      "[CV 5/5; 16/20] END eval_metric=<function mean_absolute_percentage_error at 0x0000022CD22251F0>, learning_rate=0.2717062903368829, max_depth=13, n_estimators=1000;, score=(train=-4483.358, test=-6729.041) total time=   6.1s\n",
      "[CV 1/5; 17/20] START eval_metric=<function mean_absolute_percentage_error at 0x0000022CD22251F0>, learning_rate=0.1887376205213861, max_depth=6, n_estimators=1000\n"
     ]
    },
    {
     "name": "stderr",
     "output_type": "stream",
     "text": [
      "pandas.Int64Index is deprecated and will be removed from pandas in a future version. Use pandas.Index with the appropriate dtype instead.\n",
      "pandas.Int64Index is deprecated and will be removed from pandas in a future version. Use pandas.Index with the appropriate dtype instead.\n"
     ]
    },
    {
     "name": "stdout",
     "output_type": "stream",
     "text": [
      "[CV 1/5; 17/20] END eval_metric=<function mean_absolute_percentage_error at 0x0000022CD22251F0>, learning_rate=0.1887376205213861, max_depth=6, n_estimators=1000;, score=(train=-6015.510, test=-6355.828) total time=   5.3s\n",
      "[CV 2/5; 17/20] START eval_metric=<function mean_absolute_percentage_error at 0x0000022CD22251F0>, learning_rate=0.1887376205213861, max_depth=6, n_estimators=1000\n"
     ]
    },
    {
     "name": "stderr",
     "output_type": "stream",
     "text": [
      "pandas.Int64Index is deprecated and will be removed from pandas in a future version. Use pandas.Index with the appropriate dtype instead.\n",
      "pandas.Int64Index is deprecated and will be removed from pandas in a future version. Use pandas.Index with the appropriate dtype instead.\n"
     ]
    },
    {
     "name": "stdout",
     "output_type": "stream",
     "text": [
      "[CV 2/5; 17/20] END eval_metric=<function mean_absolute_percentage_error at 0x0000022CD22251F0>, learning_rate=0.1887376205213861, max_depth=6, n_estimators=1000;, score=(train=-5978.899, test=-6502.338) total time=   5.5s\n",
      "[CV 3/5; 17/20] START eval_metric=<function mean_absolute_percentage_error at 0x0000022CD22251F0>, learning_rate=0.1887376205213861, max_depth=6, n_estimators=1000\n"
     ]
    },
    {
     "name": "stderr",
     "output_type": "stream",
     "text": [
      "pandas.Int64Index is deprecated and will be removed from pandas in a future version. Use pandas.Index with the appropriate dtype instead.\n",
      "pandas.Int64Index is deprecated and will be removed from pandas in a future version. Use pandas.Index with the appropriate dtype instead.\n"
     ]
    },
    {
     "name": "stdout",
     "output_type": "stream",
     "text": [
      "[CV 3/5; 17/20] END eval_metric=<function mean_absolute_percentage_error at 0x0000022CD22251F0>, learning_rate=0.1887376205213861, max_depth=6, n_estimators=1000;, score=(train=-6081.938, test=-6490.714) total time=   4.1s\n",
      "[CV 4/5; 17/20] START eval_metric=<function mean_absolute_percentage_error at 0x0000022CD22251F0>, learning_rate=0.1887376205213861, max_depth=6, n_estimators=1000\n"
     ]
    },
    {
     "name": "stderr",
     "output_type": "stream",
     "text": [
      "pandas.Int64Index is deprecated and will be removed from pandas in a future version. Use pandas.Index with the appropriate dtype instead.\n",
      "pandas.Int64Index is deprecated and will be removed from pandas in a future version. Use pandas.Index with the appropriate dtype instead.\n"
     ]
    },
    {
     "name": "stdout",
     "output_type": "stream",
     "text": [
      "[CV 4/5; 17/20] END eval_metric=<function mean_absolute_percentage_error at 0x0000022CD22251F0>, learning_rate=0.1887376205213861, max_depth=6, n_estimators=1000;, score=(train=-5979.939, test=-6529.083) total time=   5.9s\n",
      "[CV 5/5; 17/20] START eval_metric=<function mean_absolute_percentage_error at 0x0000022CD22251F0>, learning_rate=0.1887376205213861, max_depth=6, n_estimators=1000\n"
     ]
    },
    {
     "name": "stderr",
     "output_type": "stream",
     "text": [
      "pandas.Int64Index is deprecated and will be removed from pandas in a future version. Use pandas.Index with the appropriate dtype instead.\n",
      "pandas.Int64Index is deprecated and will be removed from pandas in a future version. Use pandas.Index with the appropriate dtype instead.\n"
     ]
    },
    {
     "name": "stdout",
     "output_type": "stream",
     "text": [
      "[CV 5/5; 17/20] END eval_metric=<function mean_absolute_percentage_error at 0x0000022CD22251F0>, learning_rate=0.1887376205213861, max_depth=6, n_estimators=1000;, score=(train=-6142.619, test=-6406.826) total time=   4.3s\n",
      "[CV 1/5; 18/20] START eval_metric=<function mean_absolute_percentage_error at 0x0000022CD22251F0>, learning_rate=0.24387642987249036, max_depth=11, n_estimators=1000\n"
     ]
    },
    {
     "name": "stderr",
     "output_type": "stream",
     "text": [
      "pandas.Int64Index is deprecated and will be removed from pandas in a future version. Use pandas.Index with the appropriate dtype instead.\n",
      "pandas.Int64Index is deprecated and will be removed from pandas in a future version. Use pandas.Index with the appropriate dtype instead.\n"
     ]
    },
    {
     "name": "stdout",
     "output_type": "stream",
     "text": [
      "[CV 1/5; 18/20] END eval_metric=<function mean_absolute_percentage_error at 0x0000022CD22251F0>, learning_rate=0.24387642987249036, max_depth=11, n_estimators=1000;, score=(train=-5181.320, test=-6703.289) total time=   5.7s\n",
      "[CV 2/5; 18/20] START eval_metric=<function mean_absolute_percentage_error at 0x0000022CD22251F0>, learning_rate=0.24387642987249036, max_depth=11, n_estimators=1000\n"
     ]
    },
    {
     "name": "stderr",
     "output_type": "stream",
     "text": [
      "pandas.Int64Index is deprecated and will be removed from pandas in a future version. Use pandas.Index with the appropriate dtype instead.\n",
      "pandas.Int64Index is deprecated and will be removed from pandas in a future version. Use pandas.Index with the appropriate dtype instead.\n"
     ]
    },
    {
     "name": "stdout",
     "output_type": "stream",
     "text": [
      "[CV 2/5; 18/20] END eval_metric=<function mean_absolute_percentage_error at 0x0000022CD22251F0>, learning_rate=0.24387642987249036, max_depth=11, n_estimators=1000;, score=(train=-4871.009, test=-6680.120) total time=   6.7s\n",
      "[CV 3/5; 18/20] START eval_metric=<function mean_absolute_percentage_error at 0x0000022CD22251F0>, learning_rate=0.24387642987249036, max_depth=11, n_estimators=1000\n"
     ]
    },
    {
     "name": "stderr",
     "output_type": "stream",
     "text": [
      "pandas.Int64Index is deprecated and will be removed from pandas in a future version. Use pandas.Index with the appropriate dtype instead.\n",
      "pandas.Int64Index is deprecated and will be removed from pandas in a future version. Use pandas.Index with the appropriate dtype instead.\n"
     ]
    },
    {
     "name": "stdout",
     "output_type": "stream",
     "text": [
      "[CV 3/5; 18/20] END eval_metric=<function mean_absolute_percentage_error at 0x0000022CD22251F0>, learning_rate=0.24387642987249036, max_depth=11, n_estimators=1000;, score=(train=-4659.871, test=-6700.444) total time=   8.7s\n",
      "[CV 4/5; 18/20] START eval_metric=<function mean_absolute_percentage_error at 0x0000022CD22251F0>, learning_rate=0.24387642987249036, max_depth=11, n_estimators=1000\n"
     ]
    },
    {
     "name": "stderr",
     "output_type": "stream",
     "text": [
      "pandas.Int64Index is deprecated and will be removed from pandas in a future version. Use pandas.Index with the appropriate dtype instead.\n",
      "pandas.Int64Index is deprecated and will be removed from pandas in a future version. Use pandas.Index with the appropriate dtype instead.\n"
     ]
    },
    {
     "name": "stdout",
     "output_type": "stream",
     "text": [
      "[CV 4/5; 18/20] END eval_metric=<function mean_absolute_percentage_error at 0x0000022CD22251F0>, learning_rate=0.24387642987249036, max_depth=11, n_estimators=1000;, score=(train=-5155.239, test=-6915.163) total time=   5.5s\n",
      "[CV 5/5; 18/20] START eval_metric=<function mean_absolute_percentage_error at 0x0000022CD22251F0>, learning_rate=0.24387642987249036, max_depth=11, n_estimators=1000\n"
     ]
    },
    {
     "name": "stderr",
     "output_type": "stream",
     "text": [
      "pandas.Int64Index is deprecated and will be removed from pandas in a future version. Use pandas.Index with the appropriate dtype instead.\n",
      "pandas.Int64Index is deprecated and will be removed from pandas in a future version. Use pandas.Index with the appropriate dtype instead.\n"
     ]
    },
    {
     "name": "stdout",
     "output_type": "stream",
     "text": [
      "[CV 5/5; 18/20] END eval_metric=<function mean_absolute_percentage_error at 0x0000022CD22251F0>, learning_rate=0.24387642987249036, max_depth=11, n_estimators=1000;, score=(train=-4949.427, test=-6584.616) total time=   6.3s\n",
      "[CV 1/5; 19/20] START eval_metric=<function mean_absolute_percentage_error at 0x0000022CD22251F0>, learning_rate=0.251318451206259, max_depth=12, n_estimators=1000\n"
     ]
    },
    {
     "name": "stderr",
     "output_type": "stream",
     "text": [
      "pandas.Int64Index is deprecated and will be removed from pandas in a future version. Use pandas.Index with the appropriate dtype instead.\n",
      "pandas.Int64Index is deprecated and will be removed from pandas in a future version. Use pandas.Index with the appropriate dtype instead.\n"
     ]
    },
    {
     "name": "stdout",
     "output_type": "stream",
     "text": [
      "[CV 1/5; 19/20] END eval_metric=<function mean_absolute_percentage_error at 0x0000022CD22251F0>, learning_rate=0.251318451206259, max_depth=12, n_estimators=1000;, score=(train=-4683.322, test=-6703.137) total time=   7.2s\n",
      "[CV 2/5; 19/20] START eval_metric=<function mean_absolute_percentage_error at 0x0000022CD22251F0>, learning_rate=0.251318451206259, max_depth=12, n_estimators=1000\n"
     ]
    },
    {
     "name": "stderr",
     "output_type": "stream",
     "text": [
      "pandas.Int64Index is deprecated and will be removed from pandas in a future version. Use pandas.Index with the appropriate dtype instead.\n",
      "pandas.Int64Index is deprecated and will be removed from pandas in a future version. Use pandas.Index with the appropriate dtype instead.\n"
     ]
    },
    {
     "name": "stdout",
     "output_type": "stream",
     "text": [
      "[CV 2/5; 19/20] END eval_metric=<function mean_absolute_percentage_error at 0x0000022CD22251F0>, learning_rate=0.251318451206259, max_depth=12, n_estimators=1000;, score=(train=-4684.491, test=-6782.242) total time=   6.7s\n",
      "[CV 3/5; 19/20] START eval_metric=<function mean_absolute_percentage_error at 0x0000022CD22251F0>, learning_rate=0.251318451206259, max_depth=12, n_estimators=1000\n"
     ]
    },
    {
     "name": "stderr",
     "output_type": "stream",
     "text": [
      "pandas.Int64Index is deprecated and will be removed from pandas in a future version. Use pandas.Index with the appropriate dtype instead.\n",
      "pandas.Int64Index is deprecated and will be removed from pandas in a future version. Use pandas.Index with the appropriate dtype instead.\n"
     ]
    },
    {
     "name": "stdout",
     "output_type": "stream",
     "text": [
      "[CV 3/5; 19/20] END eval_metric=<function mean_absolute_percentage_error at 0x0000022CD22251F0>, learning_rate=0.251318451206259, max_depth=12, n_estimators=1000;, score=(train=-4772.617, test=-6799.705) total time=   6.3s\n",
      "[CV 4/5; 19/20] START eval_metric=<function mean_absolute_percentage_error at 0x0000022CD22251F0>, learning_rate=0.251318451206259, max_depth=12, n_estimators=1000\n"
     ]
    },
    {
     "name": "stderr",
     "output_type": "stream",
     "text": [
      "pandas.Int64Index is deprecated and will be removed from pandas in a future version. Use pandas.Index with the appropriate dtype instead.\n",
      "pandas.Int64Index is deprecated and will be removed from pandas in a future version. Use pandas.Index with the appropriate dtype instead.\n"
     ]
    },
    {
     "name": "stdout",
     "output_type": "stream",
     "text": [
      "[CV 4/5; 19/20] END eval_metric=<function mean_absolute_percentage_error at 0x0000022CD22251F0>, learning_rate=0.251318451206259, max_depth=12, n_estimators=1000;, score=(train=-4795.327, test=-6948.340) total time=   6.1s\n",
      "[CV 5/5; 19/20] START eval_metric=<function mean_absolute_percentage_error at 0x0000022CD22251F0>, learning_rate=0.251318451206259, max_depth=12, n_estimators=1000\n"
     ]
    },
    {
     "name": "stderr",
     "output_type": "stream",
     "text": [
      "pandas.Int64Index is deprecated and will be removed from pandas in a future version. Use pandas.Index with the appropriate dtype instead.\n",
      "pandas.Int64Index is deprecated and will be removed from pandas in a future version. Use pandas.Index with the appropriate dtype instead.\n"
     ]
    },
    {
     "name": "stdout",
     "output_type": "stream",
     "text": [
      "[CV 5/5; 19/20] END eval_metric=<function mean_absolute_percentage_error at 0x0000022CD22251F0>, learning_rate=0.251318451206259, max_depth=12, n_estimators=1000;, score=(train=-4624.209, test=-6657.696) total time=   6.9s\n",
      "[CV 1/5; 20/20] START eval_metric=<function mean_absolute_percentage_error at 0x0000022CD22251F0>, learning_rate=0.1843781878273576, max_depth=14, n_estimators=1000\n"
     ]
    },
    {
     "name": "stderr",
     "output_type": "stream",
     "text": [
      "pandas.Int64Index is deprecated and will be removed from pandas in a future version. Use pandas.Index with the appropriate dtype instead.\n",
      "pandas.Int64Index is deprecated and will be removed from pandas in a future version. Use pandas.Index with the appropriate dtype instead.\n"
     ]
    },
    {
     "name": "stdout",
     "output_type": "stream",
     "text": [
      "[CV 1/5; 20/20] END eval_metric=<function mean_absolute_percentage_error at 0x0000022CD22251F0>, learning_rate=0.1843781878273576, max_depth=14, n_estimators=1000;, score=(train=-4042.579, test=-6711.498) total time=  10.3s\n",
      "[CV 2/5; 20/20] START eval_metric=<function mean_absolute_percentage_error at 0x0000022CD22251F0>, learning_rate=0.1843781878273576, max_depth=14, n_estimators=1000\n"
     ]
    },
    {
     "name": "stderr",
     "output_type": "stream",
     "text": [
      "pandas.Int64Index is deprecated and will be removed from pandas in a future version. Use pandas.Index with the appropriate dtype instead.\n",
      "pandas.Int64Index is deprecated and will be removed from pandas in a future version. Use pandas.Index with the appropriate dtype instead.\n"
     ]
    },
    {
     "name": "stdout",
     "output_type": "stream",
     "text": [
      "[CV 2/5; 20/20] END eval_metric=<function mean_absolute_percentage_error at 0x0000022CD22251F0>, learning_rate=0.1843781878273576, max_depth=14, n_estimators=1000;, score=(train=-3976.327, test=-6796.091) total time=  11.6s\n",
      "[CV 3/5; 20/20] START eval_metric=<function mean_absolute_percentage_error at 0x0000022CD22251F0>, learning_rate=0.1843781878273576, max_depth=14, n_estimators=1000\n"
     ]
    },
    {
     "name": "stderr",
     "output_type": "stream",
     "text": [
      "pandas.Int64Index is deprecated and will be removed from pandas in a future version. Use pandas.Index with the appropriate dtype instead.\n",
      "pandas.Int64Index is deprecated and will be removed from pandas in a future version. Use pandas.Index with the appropriate dtype instead.\n"
     ]
    },
    {
     "name": "stdout",
     "output_type": "stream",
     "text": [
      "[CV 3/5; 20/20] END eval_metric=<function mean_absolute_percentage_error at 0x0000022CD22251F0>, learning_rate=0.1843781878273576, max_depth=14, n_estimators=1000;, score=(train=-4088.304, test=-6844.519) total time=  12.0s\n",
      "[CV 4/5; 20/20] START eval_metric=<function mean_absolute_percentage_error at 0x0000022CD22251F0>, learning_rate=0.1843781878273576, max_depth=14, n_estimators=1000\n"
     ]
    },
    {
     "name": "stderr",
     "output_type": "stream",
     "text": [
      "pandas.Int64Index is deprecated and will be removed from pandas in a future version. Use pandas.Index with the appropriate dtype instead.\n",
      "pandas.Int64Index is deprecated and will be removed from pandas in a future version. Use pandas.Index with the appropriate dtype instead.\n"
     ]
    },
    {
     "name": "stdout",
     "output_type": "stream",
     "text": [
      "[CV 4/5; 20/20] END eval_metric=<function mean_absolute_percentage_error at 0x0000022CD22251F0>, learning_rate=0.1843781878273576, max_depth=14, n_estimators=1000;, score=(train=-4035.381, test=-6950.435) total time=  11.9s\n",
      "[CV 5/5; 20/20] START eval_metric=<function mean_absolute_percentage_error at 0x0000022CD22251F0>, learning_rate=0.1843781878273576, max_depth=14, n_estimators=1000\n"
     ]
    },
    {
     "name": "stderr",
     "output_type": "stream",
     "text": [
      "pandas.Int64Index is deprecated and will be removed from pandas in a future version. Use pandas.Index with the appropriate dtype instead.\n",
      "pandas.Int64Index is deprecated and will be removed from pandas in a future version. Use pandas.Index with the appropriate dtype instead.\n"
     ]
    },
    {
     "name": "stdout",
     "output_type": "stream",
     "text": [
      "[CV 5/5; 20/20] END eval_metric=<function mean_absolute_percentage_error at 0x0000022CD22251F0>, learning_rate=0.1843781878273576, max_depth=14, n_estimators=1000;, score=(train=-4056.465, test=-6679.028) total time=  11.7s\n"
     ]
    }
   ],
   "source": [
    "RandomSearch.fit(X_train,y_train,**fit_param);"
   ]
  },
  {
   "cell_type": "code",
   "execution_count": 50,
   "metadata": {},
   "outputs": [
    {
     "name": "stdout",
     "output_type": "stream",
     "text": [
      "Random Search: \tBest parameters:  {'eval_metric': <function mean_absolute_percentage_error at 0x0000022CD22251F0>, 'learning_rate': 0.02244961377517401, 'max_depth': 5, 'n_estimators': 1000} , Best scores: -6434.880\n"
     ]
    }
   ],
   "source": [
    "RandomSearch_results = pandas.DataFrame(RandomSearch.cv_results_)                 \n",
    "print(\"Random Search: \\tBest parameters: \", RandomSearch.best_params_, f\", Best scores: {RandomSearch.best_score_:.3f}\")"
   ]
  },
  {
   "cell_type": "code",
   "execution_count": 70,
   "metadata": {},
   "outputs": [
    {
     "name": "stdout",
     "output_type": "stream",
     "text": [
      "[0]\tvalidation_0-mape:0.84422\n",
      "[1]\tvalidation_0-mape:0.71594\n",
      "[2]\tvalidation_0-mape:0.60906\n",
      "[3]\tvalidation_0-mape:0.51979\n",
      "[4]\tvalidation_0-mape:0.44559\n",
      "[5]\tvalidation_0-mape:0.38322\n",
      "[6]\tvalidation_0-mape:0.33121\n",
      "[7]\tvalidation_0-mape:0.28754\n",
      "[8]\tvalidation_0-mape:0.25117\n",
      "[9]\tvalidation_0-mape:0.22082\n",
      "[10]\tvalidation_0-mape:0.19538\n",
      "[11]\tvalidation_0-mape:0.17415\n",
      "[12]\tvalidation_0-mape:0.15648\n",
      "[13]\tvalidation_0-mape:0.14176\n",
      "[14]\tvalidation_0-mape:0.12954\n",
      "[15]\tvalidation_0-mape:0.11940\n",
      "[16]\tvalidation_0-mape:0.11117\n",
      "[17]\tvalidation_0-mape:0.10448\n",
      "[18]\tvalidation_0-mape:0.09917\n",
      "[19]\tvalidation_0-mape:0.09485\n",
      "[20]\tvalidation_0-mape:0.09151\n",
      "[21]\tvalidation_0-mape:0.08892\n",
      "[22]\tvalidation_0-mape:0.08694\n",
      "[23]\tvalidation_0-mape:0.08539\n",
      "[24]\tvalidation_0-mape:0.08421\n",
      "[25]\tvalidation_0-mape:0.08333\n",
      "[26]\tvalidation_0-mape:0.08270\n",
      "[27]\tvalidation_0-mape:0.08216\n",
      "[28]\tvalidation_0-mape:0.08174\n",
      "[29]\tvalidation_0-mape:0.08144\n",
      "[30]\tvalidation_0-mape:0.08124\n",
      "[31]\tvalidation_0-mape:0.08102\n",
      "[32]\tvalidation_0-mape:0.08089\n",
      "[33]\tvalidation_0-mape:0.08080\n",
      "[34]\tvalidation_0-mape:0.08070\n",
      "[35]\tvalidation_0-mape:0.08062\n",
      "[36]\tvalidation_0-mape:0.08057\n",
      "[37]\tvalidation_0-mape:0.08051\n",
      "[38]\tvalidation_0-mape:0.08047\n",
      "[39]\tvalidation_0-mape:0.08045\n",
      "[40]\tvalidation_0-mape:0.08036\n",
      "[41]\tvalidation_0-mape:0.08035\n",
      "[42]\tvalidation_0-mape:0.08036\n",
      "[43]\tvalidation_0-mape:0.08034\n",
      "[44]\tvalidation_0-mape:0.08032\n",
      "[45]\tvalidation_0-mape:0.08031\n",
      "[46]\tvalidation_0-mape:0.08030\n",
      "[47]\tvalidation_0-mape:0.08030\n",
      "[48]\tvalidation_0-mape:0.08031\n",
      "[49]\tvalidation_0-mape:0.08030\n",
      "[50]\tvalidation_0-mape:0.08030\n",
      "[51]\tvalidation_0-mape:0.08028\n",
      "[52]\tvalidation_0-mape:0.08028\n",
      "[53]\tvalidation_0-mape:0.08027\n",
      "[54]\tvalidation_0-mape:0.08026\n",
      "[55]\tvalidation_0-mape:0.08026\n",
      "[56]\tvalidation_0-mape:0.08027\n",
      "[57]\tvalidation_0-mape:0.08023\n",
      "[58]\tvalidation_0-mape:0.08021\n",
      "[59]\tvalidation_0-mape:0.08021\n",
      "[60]\tvalidation_0-mape:0.08022\n",
      "[61]\tvalidation_0-mape:0.08022\n",
      "[62]\tvalidation_0-mape:0.08021\n",
      "[63]\tvalidation_0-mape:0.08022\n",
      "[64]\tvalidation_0-mape:0.08024\n",
      "[65]\tvalidation_0-mape:0.08025\n",
      "[66]\tvalidation_0-mape:0.08025\n",
      "[67]\tvalidation_0-mape:0.08024\n",
      "[68]\tvalidation_0-mape:0.08021\n",
      "[69]\tvalidation_0-mape:0.08020\n",
      "[70]\tvalidation_0-mape:0.08018\n",
      "[71]\tvalidation_0-mape:0.08020\n",
      "[72]\tvalidation_0-mape:0.08021\n",
      "[73]\tvalidation_0-mape:0.08025\n",
      "[74]\tvalidation_0-mape:0.08024\n",
      "[75]\tvalidation_0-mape:0.08026\n",
      "[76]\tvalidation_0-mape:0.08025\n",
      "[77]\tvalidation_0-mape:0.08026\n",
      "[78]\tvalidation_0-mape:0.08026\n",
      "[79]\tvalidation_0-mape:0.08026\n"
     ]
    },
    {
     "data": {
      "text/plain": [
       "XGBRegressor(base_score=0.5, booster='gbtree', colsample_bylevel=1,\n",
       "             colsample_bynode=1, colsample_bytree=1, enable_categorical=False,\n",
       "             eta=0.15407279965399678, eval_metric='mape', gamma=0, gpu_id=-1,\n",
       "             importance_type=None, interaction_constraints='',\n",
       "             learning_rate=0.154072806, max_delta_step=0, max_depth=8,\n",
       "             min_child_weight=1, missing=nan, monotone_constraints='()',\n",
       "             n_estimators=1000, n_jobs=8, num_parallel_tree=1, predictor='auto',\n",
       "             random_state=0, reg_alpha=0, reg_lambda=1, scale_pos_weight=1,\n",
       "             subsample=1, tree_method='exact', validate_parameters=1,\n",
       "             verbosity=None)"
      ]
     },
     "execution_count": 70,
     "metadata": {},
     "output_type": "execute_result"
    }
   ],
   "source": [
    "model3 = XGBRegressor(max_depth = 8, eta = 0.15407279965399678, eval_metric = 'mape',n_estimators=1000)\n",
    "model3.fit(X_train,y_train,eval_set=[(X_val,y_val)],early_stopping_rounds=10)"
   ]
  },
  {
   "cell_type": "code",
   "execution_count": null,
   "metadata": {},
   "outputs": [],
   "source": []
  },
  {
   "cell_type": "code",
   "execution_count": 71,
   "metadata": {},
   "outputs": [
    {
     "name": "stdout",
     "output_type": "stream",
     "text": [
      "[138083.38  220708.66  138410.56  102004.14  114011.336]\n",
      "18168     153298.265625\n",
      "98202     230593.859375\n",
      "98537     148630.921875\n",
      "128116    109284.562500\n",
      "156738    127021.703125\n",
      "Name: p_truth_E, dtype: float64\n"
     ]
    }
   ],
   "source": [
    "y_preds_train = model3.predict(X_val,iteration_range=(0,model.best_iteration))\n",
    "print(y_preds_train[0:5])\n",
    "print(y_val[0:5])"
   ]
  },
  {
   "cell_type": "code",
   "execution_count": null,
   "metadata": {},
   "outputs": [],
   "source": []
  },
  {
   "cell_type": "code",
   "execution_count": null,
   "metadata": {},
   "outputs": [],
   "source": []
  },
  {
   "cell_type": "code",
   "execution_count": 72,
   "metadata": {},
   "outputs": [
    {
     "name": "stdout",
     "output_type": "stream",
     "text": [
      "[ 79257.695  80450.516 222874.61  ... 115958.555  76996.06  149230.19 ]\n",
      "(160651,)\n"
     ]
    },
    {
     "name": "stderr",
     "output_type": "stream",
     "text": [
      "pandas.Int64Index is deprecated and will be removed from pandas in a future version. Use pandas.Index with the appropriate dtype instead.\n"
     ]
    }
   ],
   "source": [
    "y_pred_test = model3.predict(test[imp_var],iteration_range=(0,model.best_iteration))\n",
    "print(y_pred_test)\n",
    "print(y_pred_test.shape)"
   ]
  },
  {
   "cell_type": "code",
   "execution_count": 73,
   "metadata": {},
   "outputs": [],
   "source": [
    "with open('Regression_AndreasJørgensen_XGBRegressor.txt','w') as f:\n",
    "    for i in range(len(y_pred_test)):\n",
    "        f.write(str(i))\n",
    "        f.write(',')\n",
    "        f.write(str(y_pred_test[i]))\n",
    "        f.write('\\n')"
   ]
  },
  {
   "cell_type": "code",
   "execution_count": 74,
   "metadata": {},
   "outputs": [],
   "source": [
    "with open('Regression_AndreasJørgensen_XGBRegressor_Variablelist.txt','w') as f:\n",
    "    for i in range(len(imp_var)):\n",
    "        f.write(str(imp_var[i]))\n",
    "        f.write('\\n')"
   ]
  }
 ],
 "metadata": {
  "interpreter": {
   "hash": "0d3f095639d04e01ef78b150e1153127ba8ace398da327e5ac888855730e93ee"
  },
  "kernelspec": {
   "display_name": "Python 3.8.12 ('appml')",
   "language": "python",
   "name": "python3"
  },
  "language_info": {
   "codemirror_mode": {
    "name": "ipython",
    "version": 3
   },
   "file_extension": ".py",
   "mimetype": "text/x-python",
   "name": "python",
   "nbconvert_exporter": "python",
   "pygments_lexer": "ipython3",
   "version": "3.8.12"
  },
  "orig_nbformat": 4
 },
 "nbformat": 4,
 "nbformat_minor": 2
}
